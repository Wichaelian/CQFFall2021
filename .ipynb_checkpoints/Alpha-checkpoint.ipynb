{
 "cells": [
  {
   "cell_type": "code",
   "execution_count": 117,
   "metadata": {},
   "outputs": [],
   "source": [
    "import numpy as np\n",
    "import pandas as pd\n",
    "import matplotlib.pyplot as plt\n",
    "import yfinance as yf\n",
    "import backtrader as bt\n",
    "from datetime import datetime\n",
    "import statsmodels\n",
    "import statsmodels.api as sm\n",
    "from statsmodels.tsa.stattools import adfuller"
   ]
  },
  {
   "cell_type": "code",
   "execution_count": 151,
   "metadata": {},
   "outputs": [
    {
     "name": "stdout",
     "output_type": "stream",
     "text": [
      "[*********************100%***********************]  1 of 1 completed\n",
      "[*********************100%***********************]  1 of 1 completed\n",
      "[*********************100%***********************]  1 of 1 completed\n",
      "[*********************100%***********************]  1 of 1 completed\n",
      "[*********************100%***********************]  1 of 1 completed\n",
      "[*********************100%***********************]  1 of 1 completed\n"
     ]
    }
   ],
   "source": [
    "soxx_data = yf.download(\"SOXX\", start='2021-01-01')\n",
    "nvda_data = yf.download(\"NVDA\", start='2021-01-01')\n",
    "tsmc_data = yf.download(\"TSM\", start='2021-01-01')\n",
    "intc_data = yf.download(\"INTC\", start='2021-01-01')\n",
    "nxpi_data = yf.download(\"NXPI\", start='2021-01-01')\n",
    "avgo_data = yf.download(\"AVGO\", start='2021-01-01')"
   ]
  },
  {
   "cell_type": "code",
   "execution_count": 150,
   "metadata": {},
   "outputs": [
    {
     "data": {
      "text/plain": [
       "-0.003757109863184324"
      ]
     },
     "execution_count": 150,
     "metadata": {},
     "output_type": "execute_result"
    }
   ],
   "source": [
    "tsmc_data[\"Close\"].corr(soxx_data[\"Close\"])"
   ]
  },
  {
   "cell_type": "code",
   "execution_count": null,
   "metadata": {},
   "outputs": [],
   "source": []
  },
  {
   "cell_type": "code",
   "execution_count": 138,
   "metadata": {},
   "outputs": [
    {
     "data": {
      "text/plain": [
       "(-2.837875182234526,\n",
       " 0.05306391898509174,\n",
       " 2,\n",
       " 228,\n",
       " {'1%': -3.4593607492757554,\n",
       "  '5%': -2.8743015807562924,\n",
       "  '10%': -2.5735714042782396},\n",
       " 1263.4219682411845)"
      ]
     },
     "execution_count": 138,
     "metadata": {},
     "output_type": "execute_result"
    }
   ],
   "source": [
    "adfuller(nxpi_data[\"Close\"])"
   ]
  },
  {
   "cell_type": "code",
   "execution_count": 147,
   "metadata": {},
   "outputs": [
    {
     "data": {
      "text/plain": [
       "(-1.6731469175364895,\n",
       " 0.444998378974486,\n",
       " 5,\n",
       " 225,\n",
       " {'1%': -3.4597521044060353,\n",
       "  '5%': -2.874472927517147,\n",
       "  '10%': -2.5736628197530864},\n",
       " 1330.9124411729408)"
      ]
     },
     "execution_count": 147,
     "metadata": {},
     "output_type": "execute_result"
    }
   ],
   "source": [
    "ols = sm.OLS(soxx_data[\"Close\"], nxpi_data[\"Close\"]).fit()\n",
    "adfuller(ols.resid)"
   ]
  }
 ],
 "metadata": {
  "kernelspec": {
   "display_name": "Python 3",
   "language": "python",
   "name": "python3"
  },
  "language_info": {
   "codemirror_mode": {
    "name": "ipython",
    "version": 3
   },
   "file_extension": ".py",
   "mimetype": "text/x-python",
   "name": "python",
   "nbconvert_exporter": "python",
   "pygments_lexer": "ipython3",
   "version": "3.7.4"
  }
 },
 "nbformat": 4,
 "nbformat_minor": 2
}
