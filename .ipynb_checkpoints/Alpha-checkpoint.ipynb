{
 "cells": [
  {
   "cell_type": "code",
   "execution_count": 29,
   "metadata": {},
   "outputs": [],
   "source": [
    "import numpy as np\n",
    "import pandas as pd\n",
    "import matplotlib.pyplot as plt\n",
    "import yfinance as yf\n",
    "import backtrader as bt\n",
    "from datetime import datetime\n",
    "import statsmodels\n",
    "from statsmodels.tsa.stattools import adfuller"
   ]
  },
  {
   "cell_type": "code",
   "execution_count": 44,
   "metadata": {},
   "outputs": [
    {
     "name": "stdout",
     "output_type": "stream",
     "text": [
      "[*********************100%***********************]  1 of 1 completed\n",
      "[*********************100%***********************]  1 of 1 completed\n"
     ]
    },
    {
     "data": {
      "text/html": [
       "<div>\n",
       "<style scoped>\n",
       "    .dataframe tbody tr th:only-of-type {\n",
       "        vertical-align: middle;\n",
       "    }\n",
       "\n",
       "    .dataframe tbody tr th {\n",
       "        vertical-align: top;\n",
       "    }\n",
       "\n",
       "    .dataframe thead th {\n",
       "        text-align: right;\n",
       "    }\n",
       "</style>\n",
       "<table border=\"1\" class=\"dataframe\">\n",
       "  <thead>\n",
       "    <tr style=\"text-align: right;\">\n",
       "      <th></th>\n",
       "      <th>Open</th>\n",
       "      <th>High</th>\n",
       "      <th>Low</th>\n",
       "      <th>Close</th>\n",
       "      <th>Adj Close</th>\n",
       "      <th>Volume</th>\n",
       "    </tr>\n",
       "    <tr>\n",
       "      <th>Date</th>\n",
       "      <th></th>\n",
       "      <th></th>\n",
       "      <th></th>\n",
       "      <th></th>\n",
       "      <th></th>\n",
       "      <th></th>\n",
       "    </tr>\n",
       "  </thead>\n",
       "  <tbody>\n",
       "    <tr>\n",
       "      <td>2020-06-01</td>\n",
       "      <td>97.699997</td>\n",
       "      <td>100.379997</td>\n",
       "      <td>96.589996</td>\n",
       "      <td>99.190002</td>\n",
       "      <td>97.470657</td>\n",
       "      <td>6320700</td>\n",
       "    </tr>\n",
       "    <tr>\n",
       "      <td>2020-06-02</td>\n",
       "      <td>100.199997</td>\n",
       "      <td>103.099998</td>\n",
       "      <td>99.269997</td>\n",
       "      <td>101.449997</td>\n",
       "      <td>99.691467</td>\n",
       "      <td>5259400</td>\n",
       "    </tr>\n",
       "    <tr>\n",
       "      <td>2020-06-03</td>\n",
       "      <td>106.000000</td>\n",
       "      <td>110.180000</td>\n",
       "      <td>105.779999</td>\n",
       "      <td>108.550003</td>\n",
       "      <td>106.668396</td>\n",
       "      <td>7679600</td>\n",
       "    </tr>\n",
       "    <tr>\n",
       "      <td>2020-06-04</td>\n",
       "      <td>107.750000</td>\n",
       "      <td>111.139999</td>\n",
       "      <td>106.800003</td>\n",
       "      <td>109.550003</td>\n",
       "      <td>107.651070</td>\n",
       "      <td>6754200</td>\n",
       "    </tr>\n",
       "    <tr>\n",
       "      <td>2020-06-05</td>\n",
       "      <td>115.930000</td>\n",
       "      <td>118.849998</td>\n",
       "      <td>113.300003</td>\n",
       "      <td>113.820000</td>\n",
       "      <td>111.847054</td>\n",
       "      <td>7954100</td>\n",
       "    </tr>\n",
       "    <tr>\n",
       "      <td>...</td>\n",
       "      <td>...</td>\n",
       "      <td>...</td>\n",
       "      <td>...</td>\n",
       "      <td>...</td>\n",
       "      <td>...</td>\n",
       "      <td>...</td>\n",
       "    </tr>\n",
       "    <tr>\n",
       "      <td>2021-11-23</td>\n",
       "      <td>221.410004</td>\n",
       "      <td>224.089996</td>\n",
       "      <td>215.570007</td>\n",
       "      <td>219.119995</td>\n",
       "      <td>219.119995</td>\n",
       "      <td>2070000</td>\n",
       "    </tr>\n",
       "    <tr>\n",
       "      <td>2021-11-24</td>\n",
       "      <td>216.600006</td>\n",
       "      <td>221.220001</td>\n",
       "      <td>214.320007</td>\n",
       "      <td>221.029999</td>\n",
       "      <td>221.029999</td>\n",
       "      <td>1630900</td>\n",
       "    </tr>\n",
       "    <tr>\n",
       "      <td>2021-11-26</td>\n",
       "      <td>213.119995</td>\n",
       "      <td>217.559998</td>\n",
       "      <td>210.250000</td>\n",
       "      <td>212.449997</td>\n",
       "      <td>212.449997</td>\n",
       "      <td>1776500</td>\n",
       "    </tr>\n",
       "    <tr>\n",
       "      <td>2021-11-29</td>\n",
       "      <td>216.750000</td>\n",
       "      <td>224.259995</td>\n",
       "      <td>215.100006</td>\n",
       "      <td>223.940002</td>\n",
       "      <td>223.940002</td>\n",
       "      <td>2412900</td>\n",
       "    </tr>\n",
       "    <tr>\n",
       "      <td>2021-11-30</td>\n",
       "      <td>222.699997</td>\n",
       "      <td>227.820007</td>\n",
       "      <td>218.300003</td>\n",
       "      <td>223.360001</td>\n",
       "      <td>223.360001</td>\n",
       "      <td>5141600</td>\n",
       "    </tr>\n",
       "  </tbody>\n",
       "</table>\n",
       "<p>380 rows × 6 columns</p>\n",
       "</div>"
      ],
      "text/plain": [
       "                  Open        High         Low       Close   Adj Close  \\\n",
       "Date                                                                     \n",
       "2020-06-01   97.699997  100.379997   96.589996   99.190002   97.470657   \n",
       "2020-06-02  100.199997  103.099998   99.269997  101.449997   99.691467   \n",
       "2020-06-03  106.000000  110.180000  105.779999  108.550003  106.668396   \n",
       "2020-06-04  107.750000  111.139999  106.800003  109.550003  107.651070   \n",
       "2020-06-05  115.930000  118.849998  113.300003  113.820000  111.847054   \n",
       "...                ...         ...         ...         ...         ...   \n",
       "2021-11-23  221.410004  224.089996  215.570007  219.119995  219.119995   \n",
       "2021-11-24  216.600006  221.220001  214.320007  221.029999  221.029999   \n",
       "2021-11-26  213.119995  217.559998  210.250000  212.449997  212.449997   \n",
       "2021-11-29  216.750000  224.259995  215.100006  223.940002  223.940002   \n",
       "2021-11-30  222.699997  227.820007  218.300003  223.360001  223.360001   \n",
       "\n",
       "             Volume  \n",
       "Date                 \n",
       "2020-06-01  6320700  \n",
       "2020-06-02  5259400  \n",
       "2020-06-03  7679600  \n",
       "2020-06-04  6754200  \n",
       "2020-06-05  7954100  \n",
       "...             ...  \n",
       "2021-11-23  2070000  \n",
       "2021-11-24  1630900  \n",
       "2021-11-26  1776500  \n",
       "2021-11-29  2412900  \n",
       "2021-11-30  5141600  \n",
       "\n",
       "[380 rows x 6 columns]"
      ]
     },
     "execution_count": 44,
     "metadata": {},
     "output_type": "execute_result"
    }
   ],
   "source": [
    "tsmc_data = yf.download(\"NXPI\", start='2020-06-01')\n",
    "qcom_data = yf.download(\"QCOM\", start='2020-06-01')\n",
    "tsmc_data"
   ]
  },
  {
   "cell_type": "code",
   "execution_count": 45,
   "metadata": {},
   "outputs": [
    {
     "data": {
      "text/html": [
       "<div>\n",
       "<style scoped>\n",
       "    .dataframe tbody tr th:only-of-type {\n",
       "        vertical-align: middle;\n",
       "    }\n",
       "\n",
       "    .dataframe tbody tr th {\n",
       "        vertical-align: top;\n",
       "    }\n",
       "\n",
       "    .dataframe thead th {\n",
       "        text-align: right;\n",
       "    }\n",
       "</style>\n",
       "<table border=\"1\" class=\"dataframe\">\n",
       "  <thead>\n",
       "    <tr style=\"text-align: right;\">\n",
       "      <th></th>\n",
       "      <th>Open</th>\n",
       "      <th>High</th>\n",
       "      <th>Low</th>\n",
       "      <th>Close</th>\n",
       "      <th>Adj Close</th>\n",
       "      <th>Volume</th>\n",
       "    </tr>\n",
       "    <tr>\n",
       "      <th>Date</th>\n",
       "      <th></th>\n",
       "      <th></th>\n",
       "      <th></th>\n",
       "      <th></th>\n",
       "      <th></th>\n",
       "      <th></th>\n",
       "    </tr>\n",
       "  </thead>\n",
       "  <tbody>\n",
       "    <tr>\n",
       "      <td>2020-06-01</td>\n",
       "      <td>79.889999</td>\n",
       "      <td>80.480003</td>\n",
       "      <td>79.239998</td>\n",
       "      <td>79.730003</td>\n",
       "      <td>77.230698</td>\n",
       "      <td>6474800</td>\n",
       "    </tr>\n",
       "    <tr>\n",
       "      <td>2020-06-02</td>\n",
       "      <td>79.930000</td>\n",
       "      <td>84.879997</td>\n",
       "      <td>79.910004</td>\n",
       "      <td>84.629997</td>\n",
       "      <td>81.977097</td>\n",
       "      <td>13255300</td>\n",
       "    </tr>\n",
       "    <tr>\n",
       "      <td>2020-06-03</td>\n",
       "      <td>84.949997</td>\n",
       "      <td>85.949997</td>\n",
       "      <td>83.620003</td>\n",
       "      <td>84.110001</td>\n",
       "      <td>82.103989</td>\n",
       "      <td>13029300</td>\n",
       "    </tr>\n",
       "    <tr>\n",
       "      <td>2020-06-04</td>\n",
       "      <td>83.949997</td>\n",
       "      <td>86.699997</td>\n",
       "      <td>83.949997</td>\n",
       "      <td>86.040001</td>\n",
       "      <td>83.987968</td>\n",
       "      <td>12109000</td>\n",
       "    </tr>\n",
       "    <tr>\n",
       "      <td>2020-06-05</td>\n",
       "      <td>88.000000</td>\n",
       "      <td>89.480003</td>\n",
       "      <td>87.820000</td>\n",
       "      <td>88.550003</td>\n",
       "      <td>86.438103</td>\n",
       "      <td>11882100</td>\n",
       "    </tr>\n",
       "    <tr>\n",
       "      <td>...</td>\n",
       "      <td>...</td>\n",
       "      <td>...</td>\n",
       "      <td>...</td>\n",
       "      <td>...</td>\n",
       "      <td>...</td>\n",
       "      <td>...</td>\n",
       "    </tr>\n",
       "    <tr>\n",
       "      <td>2021-11-23</td>\n",
       "      <td>180.339996</td>\n",
       "      <td>181.330002</td>\n",
       "      <td>177.020004</td>\n",
       "      <td>180.940002</td>\n",
       "      <td>180.940002</td>\n",
       "      <td>10696200</td>\n",
       "    </tr>\n",
       "    <tr>\n",
       "      <td>2021-11-24</td>\n",
       "      <td>179.520004</td>\n",
       "      <td>180.779999</td>\n",
       "      <td>177.330002</td>\n",
       "      <td>180.710007</td>\n",
       "      <td>180.710007</td>\n",
       "      <td>7886200</td>\n",
       "    </tr>\n",
       "    <tr>\n",
       "      <td>2021-11-26</td>\n",
       "      <td>175.669998</td>\n",
       "      <td>180.250000</td>\n",
       "      <td>175.059998</td>\n",
       "      <td>175.740005</td>\n",
       "      <td>175.740005</td>\n",
       "      <td>7835900</td>\n",
       "    </tr>\n",
       "    <tr>\n",
       "      <td>2021-11-29</td>\n",
       "      <td>179.479996</td>\n",
       "      <td>184.070007</td>\n",
       "      <td>179.000000</td>\n",
       "      <td>183.740005</td>\n",
       "      <td>183.740005</td>\n",
       "      <td>10440500</td>\n",
       "    </tr>\n",
       "    <tr>\n",
       "      <td>2021-11-30</td>\n",
       "      <td>183.220001</td>\n",
       "      <td>186.809998</td>\n",
       "      <td>180.339996</td>\n",
       "      <td>180.559998</td>\n",
       "      <td>180.559998</td>\n",
       "      <td>19300300</td>\n",
       "    </tr>\n",
       "  </tbody>\n",
       "</table>\n",
       "<p>380 rows × 6 columns</p>\n",
       "</div>"
      ],
      "text/plain": [
       "                  Open        High         Low       Close   Adj Close  \\\n",
       "Date                                                                     \n",
       "2020-06-01   79.889999   80.480003   79.239998   79.730003   77.230698   \n",
       "2020-06-02   79.930000   84.879997   79.910004   84.629997   81.977097   \n",
       "2020-06-03   84.949997   85.949997   83.620003   84.110001   82.103989   \n",
       "2020-06-04   83.949997   86.699997   83.949997   86.040001   83.987968   \n",
       "2020-06-05   88.000000   89.480003   87.820000   88.550003   86.438103   \n",
       "...                ...         ...         ...         ...         ...   \n",
       "2021-11-23  180.339996  181.330002  177.020004  180.940002  180.940002   \n",
       "2021-11-24  179.520004  180.779999  177.330002  180.710007  180.710007   \n",
       "2021-11-26  175.669998  180.250000  175.059998  175.740005  175.740005   \n",
       "2021-11-29  179.479996  184.070007  179.000000  183.740005  183.740005   \n",
       "2021-11-30  183.220001  186.809998  180.339996  180.559998  180.559998   \n",
       "\n",
       "              Volume  \n",
       "Date                  \n",
       "2020-06-01   6474800  \n",
       "2020-06-02  13255300  \n",
       "2020-06-03  13029300  \n",
       "2020-06-04  12109000  \n",
       "2020-06-05  11882100  \n",
       "...              ...  \n",
       "2021-11-23  10696200  \n",
       "2021-11-24   7886200  \n",
       "2021-11-26   7835900  \n",
       "2021-11-29  10440500  \n",
       "2021-11-30  19300300  \n",
       "\n",
       "[380 rows x 6 columns]"
      ]
     },
     "execution_count": 45,
     "metadata": {},
     "output_type": "execute_result"
    }
   ],
   "source": [
    "qcom_data"
   ]
  },
  {
   "cell_type": "code",
   "execution_count": 46,
   "metadata": {},
   "outputs": [
    {
     "data": {
      "text/plain": [
       "[<matplotlib.lines.Line2D at 0x2a5c7c4cb88>]"
      ]
     },
     "execution_count": 46,
     "metadata": {},
     "output_type": "execute_result"
    },
    {
     "data": {
      "image/png": "[encoded data removed]",
      "text/plain": [
       "<Figure size 432x288 with 1 Axes>"
      ]
     },
     "metadata": {
      "needs_background": "light"
     },
     "output_type": "display_data"
    }
   ],
   "source": [
    "plt.plot(tsmc_data[\"Close\"])"
   ]
  },
  {
   "cell_type": "code",
   "execution_count": 47,
   "metadata": {},
   "outputs": [
    {
     "data": {
      "text/plain": [
       "[<matplotlib.lines.Line2D at 0x2a5c7c9d308>]"
      ]
     },
     "execution_count": 47,
     "metadata": {},
     "output_type": "execute_result"
    },
    {
     "data": {
      "image/png": "[encoded data removed]",
      "text/plain": [
       "<Figure size 432x288 with 1 Axes>"
      ]
     },
     "metadata": {
      "needs_background": "light"
     },
     "output_type": "display_data"
    }
   ],
   "source": [
    "plt.plot(qcom_data[\"Close\"])"
   ]
  },
  {
   "cell_type": "code",
   "execution_count": 51,
   "metadata": {},
   "outputs": [
    {
     "data": {
      "text/plain": [
       "0.7210232620507205"
      ]
     },
     "execution_count": 51,
     "metadata": {},
     "output_type": "execute_result"
    }
   ],
   "source": [
    "correlation = tsmc_data[\"Close\"].corr(qcom_data[\"Close\"])\n",
    "correlation"
   ]
  },
  {
   "cell_type": "code",
   "execution_count": 50,
   "metadata": {},
   "outputs": [
    {
     "data": {
      "text/plain": [
       "(-1.3232454122293669,\n",
       " 0.6184715569699023,\n",
       " 2,\n",
       " 377,\n",
       " {'1%': -3.4478152097574224,\n",
       "  '5%': -2.8692371153451903,\n",
       "  '10%': -2.5708704003405356},\n",
       " 2025.781474652102)"
      ]
     },
     "execution_count": 50,
     "metadata": {},
     "output_type": "execute_result"
    }
   ],
   "source": [
    "adfuller(tsmc_data[\"Close\"])"
   ]
  }
 ],
 "metadata": {
  "kernelspec": {
   "display_name": "Python 3",
   "language": "python",
   "name": "python3"
  },
  "language_info": {
   "codemirror_mode": {
    "name": "ipython",
    "version": 3
   },
   "file_extension": ".py",
   "mimetype": "text/x-python",
   "name": "python",
   "nbconvert_exporter": "python",
   "pygments_lexer": "ipython3",
   "version": "3.7.4"
  }
 },
 "nbformat": 4,
 "nbformat_minor": 2
}
