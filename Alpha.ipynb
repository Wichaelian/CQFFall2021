{
 "cells": [
  {
   "cell_type": "code",
   "execution_count": 117,
   "metadata": {},
   "outputs": [],
   "source": [
    "import numpy as np\n",
    "import pandas as pd\n",
    "import matplotlib.pyplot as plt\n",
    "import yfinance as yf\n",
    "import backtrader as bt\n",
    "from datetime import datetime\n",
    "import statsmodels\n",
    "import statsmodels.api as sm\n",
    "from statsmodels.tsa.stattools import adfuller"
   ]
  },
  {
   "cell_type": "code",
   "execution_count": 99,
   "metadata": {},
   "outputs": [
    {
     "name": "stdout",
     "output_type": "stream",
     "text": [
      "[*********************100%***********************]  1 of 1 completed\n",
      "[*********************100%***********************]  1 of 1 completed\n"
     ]
    },
    {
     "data": {
      "text/html": [
       "<div>\n",
       "<style scoped>\n",
       "    .dataframe tbody tr th:only-of-type {\n",
       "        vertical-align: middle;\n",
       "    }\n",
       "\n",
       "    .dataframe tbody tr th {\n",
       "        vertical-align: top;\n",
       "    }\n",
       "\n",
       "    .dataframe thead th {\n",
       "        text-align: right;\n",
       "    }\n",
       "</style>\n",
       "<table border=\"1\" class=\"dataframe\">\n",
       "  <thead>\n",
       "    <tr style=\"text-align: right;\">\n",
       "      <th></th>\n",
       "      <th>Open</th>\n",
       "      <th>High</th>\n",
       "      <th>Low</th>\n",
       "      <th>Close</th>\n",
       "      <th>Adj Close</th>\n",
       "      <th>Volume</th>\n",
       "    </tr>\n",
       "    <tr>\n",
       "      <th>Date</th>\n",
       "      <th></th>\n",
       "      <th></th>\n",
       "      <th></th>\n",
       "      <th></th>\n",
       "      <th></th>\n",
       "      <th></th>\n",
       "    </tr>\n",
       "  </thead>\n",
       "  <tbody>\n",
       "    <tr>\n",
       "      <td>2021-01-04</td>\n",
       "      <td>160.330002</td>\n",
       "      <td>165.839996</td>\n",
       "      <td>158.619995</td>\n",
       "      <td>162.039993</td>\n",
       "      <td>160.681473</td>\n",
       "      <td>2931600</td>\n",
       "    </tr>\n",
       "    <tr>\n",
       "      <td>2021-01-05</td>\n",
       "      <td>161.529999</td>\n",
       "      <td>165.970001</td>\n",
       "      <td>161.119995</td>\n",
       "      <td>165.669998</td>\n",
       "      <td>164.281052</td>\n",
       "      <td>1980600</td>\n",
       "    </tr>\n",
       "    <tr>\n",
       "      <td>2021-01-06</td>\n",
       "      <td>164.610001</td>\n",
       "      <td>171.800003</td>\n",
       "      <td>164.610001</td>\n",
       "      <td>168.720001</td>\n",
       "      <td>167.305481</td>\n",
       "      <td>2686500</td>\n",
       "    </tr>\n",
       "    <tr>\n",
       "      <td>2021-01-07</td>\n",
       "      <td>172.089996</td>\n",
       "      <td>176.500000</td>\n",
       "      <td>171.929993</td>\n",
       "      <td>174.990005</td>\n",
       "      <td>173.522903</td>\n",
       "      <td>2485500</td>\n",
       "    </tr>\n",
       "    <tr>\n",
       "      <td>2021-01-08</td>\n",
       "      <td>181.380005</td>\n",
       "      <td>182.550003</td>\n",
       "      <td>171.500000</td>\n",
       "      <td>175.029999</td>\n",
       "      <td>173.562576</td>\n",
       "      <td>2827900</td>\n",
       "    </tr>\n",
       "    <tr>\n",
       "      <td>...</td>\n",
       "      <td>...</td>\n",
       "      <td>...</td>\n",
       "      <td>...</td>\n",
       "      <td>...</td>\n",
       "      <td>...</td>\n",
       "      <td>...</td>\n",
       "    </tr>\n",
       "    <tr>\n",
       "      <td>2021-11-23</td>\n",
       "      <td>221.410004</td>\n",
       "      <td>224.089996</td>\n",
       "      <td>215.570007</td>\n",
       "      <td>219.119995</td>\n",
       "      <td>219.119995</td>\n",
       "      <td>2070000</td>\n",
       "    </tr>\n",
       "    <tr>\n",
       "      <td>2021-11-24</td>\n",
       "      <td>216.600006</td>\n",
       "      <td>221.220001</td>\n",
       "      <td>214.320007</td>\n",
       "      <td>221.029999</td>\n",
       "      <td>221.029999</td>\n",
       "      <td>1630900</td>\n",
       "    </tr>\n",
       "    <tr>\n",
       "      <td>2021-11-26</td>\n",
       "      <td>213.119995</td>\n",
       "      <td>217.559998</td>\n",
       "      <td>210.250000</td>\n",
       "      <td>212.449997</td>\n",
       "      <td>212.449997</td>\n",
       "      <td>1776500</td>\n",
       "    </tr>\n",
       "    <tr>\n",
       "      <td>2021-11-29</td>\n",
       "      <td>216.750000</td>\n",
       "      <td>224.259995</td>\n",
       "      <td>215.100006</td>\n",
       "      <td>223.940002</td>\n",
       "      <td>223.940002</td>\n",
       "      <td>2412900</td>\n",
       "    </tr>\n",
       "    <tr>\n",
       "      <td>2021-11-30</td>\n",
       "      <td>222.699997</td>\n",
       "      <td>227.820007</td>\n",
       "      <td>218.300003</td>\n",
       "      <td>223.360001</td>\n",
       "      <td>223.360001</td>\n",
       "      <td>5141600</td>\n",
       "    </tr>\n",
       "  </tbody>\n",
       "</table>\n",
       "<p>230 rows × 6 columns</p>\n",
       "</div>"
      ],
      "text/plain": [
       "                  Open        High         Low       Close   Adj Close  \\\n",
       "Date                                                                     \n",
       "2021-01-04  160.330002  165.839996  158.619995  162.039993  160.681473   \n",
       "2021-01-05  161.529999  165.970001  161.119995  165.669998  164.281052   \n",
       "2021-01-06  164.610001  171.800003  164.610001  168.720001  167.305481   \n",
       "2021-01-07  172.089996  176.500000  171.929993  174.990005  173.522903   \n",
       "2021-01-08  181.380005  182.550003  171.500000  175.029999  173.562576   \n",
       "...                ...         ...         ...         ...         ...   \n",
       "2021-11-23  221.410004  224.089996  215.570007  219.119995  219.119995   \n",
       "2021-11-24  216.600006  221.220001  214.320007  221.029999  221.029999   \n",
       "2021-11-26  213.119995  217.559998  210.250000  212.449997  212.449997   \n",
       "2021-11-29  216.750000  224.259995  215.100006  223.940002  223.940002   \n",
       "2021-11-30  222.699997  227.820007  218.300003  223.360001  223.360001   \n",
       "\n",
       "             Volume  \n",
       "Date                 \n",
       "2021-01-04  2931600  \n",
       "2021-01-05  1980600  \n",
       "2021-01-06  2686500  \n",
       "2021-01-07  2485500  \n",
       "2021-01-08  2827900  \n",
       "...             ...  \n",
       "2021-11-23  2070000  \n",
       "2021-11-24  1630900  \n",
       "2021-11-26  1776500  \n",
       "2021-11-29  2412900  \n",
       "2021-11-30  5141600  \n",
       "\n",
       "[230 rows x 6 columns]"
      ]
     },
     "execution_count": 99,
     "metadata": {},
     "output_type": "execute_result"
    }
   ],
   "source": [
    "tsmc_data = yf.download(\"NXPI\", start='2021-01-01')\n",
    "soxx_data = yf.download(\"SOXX\", start='2021-01-01')\n",
    "tsmc_data"
   ]
  },
  {
   "cell_type": "code",
   "execution_count": 100,
   "metadata": {},
   "outputs": [
    {
     "data": {
      "text/html": [
       "<div>\n",
       "<style scoped>\n",
       "    .dataframe tbody tr th:only-of-type {\n",
       "        vertical-align: middle;\n",
       "    }\n",
       "\n",
       "    .dataframe tbody tr th {\n",
       "        vertical-align: top;\n",
       "    }\n",
       "\n",
       "    .dataframe thead th {\n",
       "        text-align: right;\n",
       "    }\n",
       "</style>\n",
       "<table border=\"1\" class=\"dataframe\">\n",
       "  <thead>\n",
       "    <tr style=\"text-align: right;\">\n",
       "      <th></th>\n",
       "      <th>Open</th>\n",
       "      <th>High</th>\n",
       "      <th>Low</th>\n",
       "      <th>Close</th>\n",
       "      <th>Adj Close</th>\n",
       "      <th>Volume</th>\n",
       "    </tr>\n",
       "    <tr>\n",
       "      <th>Date</th>\n",
       "      <th></th>\n",
       "      <th></th>\n",
       "      <th></th>\n",
       "      <th></th>\n",
       "      <th></th>\n",
       "      <th></th>\n",
       "    </tr>\n",
       "  </thead>\n",
       "  <tbody>\n",
       "    <tr>\n",
       "      <td>2021-01-04</td>\n",
       "      <td>381.640015</td>\n",
       "      <td>389.779999</td>\n",
       "      <td>374.859985</td>\n",
       "      <td>377.589996</td>\n",
       "      <td>375.511932</td>\n",
       "      <td>829200</td>\n",
       "    </tr>\n",
       "    <tr>\n",
       "      <td>2021-01-05</td>\n",
       "      <td>377.290009</td>\n",
       "      <td>385.309998</td>\n",
       "      <td>377.000000</td>\n",
       "      <td>385.309998</td>\n",
       "      <td>383.189453</td>\n",
       "      <td>556900</td>\n",
       "    </tr>\n",
       "    <tr>\n",
       "      <td>2021-01-06</td>\n",
       "      <td>381.100006</td>\n",
       "      <td>391.609985</td>\n",
       "      <td>380.570007</td>\n",
       "      <td>384.059998</td>\n",
       "      <td>381.946320</td>\n",
       "      <td>1071700</td>\n",
       "    </tr>\n",
       "    <tr>\n",
       "      <td>2021-01-07</td>\n",
       "      <td>389.679993</td>\n",
       "      <td>399.529999</td>\n",
       "      <td>389.679993</td>\n",
       "      <td>398.549988</td>\n",
       "      <td>396.356598</td>\n",
       "      <td>603000</td>\n",
       "    </tr>\n",
       "    <tr>\n",
       "      <td>2021-01-08</td>\n",
       "      <td>404.260010</td>\n",
       "      <td>406.109985</td>\n",
       "      <td>394.079987</td>\n",
       "      <td>398.760010</td>\n",
       "      <td>396.565460</td>\n",
       "      <td>706600</td>\n",
       "    </tr>\n",
       "    <tr>\n",
       "      <td>...</td>\n",
       "      <td>...</td>\n",
       "      <td>...</td>\n",
       "      <td>...</td>\n",
       "      <td>...</td>\n",
       "      <td>...</td>\n",
       "      <td>...</td>\n",
       "    </tr>\n",
       "    <tr>\n",
       "      <td>2021-11-23</td>\n",
       "      <td>529.349976</td>\n",
       "      <td>532.909973</td>\n",
       "      <td>518.919983</td>\n",
       "      <td>527.789978</td>\n",
       "      <td>527.789978</td>\n",
       "      <td>807600</td>\n",
       "    </tr>\n",
       "    <tr>\n",
       "      <td>2021-11-24</td>\n",
       "      <td>523.650024</td>\n",
       "      <td>533.859985</td>\n",
       "      <td>518.409973</td>\n",
       "      <td>533.590027</td>\n",
       "      <td>533.590027</td>\n",
       "      <td>705700</td>\n",
       "    </tr>\n",
       "    <tr>\n",
       "      <td>2021-11-26</td>\n",
       "      <td>523.520020</td>\n",
       "      <td>528.260010</td>\n",
       "      <td>514.919983</td>\n",
       "      <td>518.739990</td>\n",
       "      <td>518.739990</td>\n",
       "      <td>816000</td>\n",
       "    </tr>\n",
       "    <tr>\n",
       "      <td>2021-11-29</td>\n",
       "      <td>526.429993</td>\n",
       "      <td>539.880005</td>\n",
       "      <td>524.450012</td>\n",
       "      <td>538.679993</td>\n",
       "      <td>538.679993</td>\n",
       "      <td>804100</td>\n",
       "    </tr>\n",
       "    <tr>\n",
       "      <td>2021-11-30</td>\n",
       "      <td>536.559998</td>\n",
       "      <td>541.590027</td>\n",
       "      <td>524.719971</td>\n",
       "      <td>529.239990</td>\n",
       "      <td>529.239990</td>\n",
       "      <td>1087400</td>\n",
       "    </tr>\n",
       "  </tbody>\n",
       "</table>\n",
       "<p>230 rows × 6 columns</p>\n",
       "</div>"
      ],
      "text/plain": [
       "                  Open        High         Low       Close   Adj Close  \\\n",
       "Date                                                                     \n",
       "2021-01-04  381.640015  389.779999  374.859985  377.589996  375.511932   \n",
       "2021-01-05  377.290009  385.309998  377.000000  385.309998  383.189453   \n",
       "2021-01-06  381.100006  391.609985  380.570007  384.059998  381.946320   \n",
       "2021-01-07  389.679993  399.529999  389.679993  398.549988  396.356598   \n",
       "2021-01-08  404.260010  406.109985  394.079987  398.760010  396.565460   \n",
       "...                ...         ...         ...         ...         ...   \n",
       "2021-11-23  529.349976  532.909973  518.919983  527.789978  527.789978   \n",
       "2021-11-24  523.650024  533.859985  518.409973  533.590027  533.590027   \n",
       "2021-11-26  523.520020  528.260010  514.919983  518.739990  518.739990   \n",
       "2021-11-29  526.429993  539.880005  524.450012  538.679993  538.679993   \n",
       "2021-11-30  536.559998  541.590027  524.719971  529.239990  529.239990   \n",
       "\n",
       "             Volume  \n",
       "Date                 \n",
       "2021-01-04   829200  \n",
       "2021-01-05   556900  \n",
       "2021-01-06  1071700  \n",
       "2021-01-07   603000  \n",
       "2021-01-08   706600  \n",
       "...             ...  \n",
       "2021-11-23   807600  \n",
       "2021-11-24   705700  \n",
       "2021-11-26   816000  \n",
       "2021-11-29   804100  \n",
       "2021-11-30  1087400  \n",
       "\n",
       "[230 rows x 6 columns]"
      ]
     },
     "execution_count": 100,
     "metadata": {},
     "output_type": "execute_result"
    }
   ],
   "source": [
    "qcom_data"
   ]
  },
  {
   "cell_type": "code",
   "execution_count": 101,
   "metadata": {},
   "outputs": [
    {
     "data": {
      "text/plain": [
       "[<matplotlib.lines.Line2D at 0x2a5c9487848>]"
      ]
     },
     "execution_count": 101,
     "metadata": {},
     "output_type": "execute_result"
    },
    {
     "data": {
      "image/png": "[encoded data removed]",
      "text/plain": [
       "<Figure size 432x288 with 1 Axes>"
      ]
     },
     "metadata": {
      "needs_background": "light"
     },
     "output_type": "display_data"
    }
   ],
   "source": [
    "plt.plot(tsmc_data[\"Close\"])"
   ]
  },
  {
   "cell_type": "code",
   "execution_count": 102,
   "metadata": {},
   "outputs": [
    {
     "data": {
      "text/plain": [
       "[<matplotlib.lines.Line2D at 0x2a5c94f9ec8>]"
      ]
     },
     "execution_count": 102,
     "metadata": {},
     "output_type": "execute_result"
    },
    {
     "data": {
      "image/png": "[encoded data removed]",
      "text/plain": [
       "<Figure size 432x288 with 1 Axes>"
      ]
     },
     "metadata": {
      "needs_background": "light"
     },
     "output_type": "display_data"
    }
   ],
   "source": [
    "plt.plot(soxx_data[\"Close\"])"
   ]
  },
  {
   "cell_type": "code",
   "execution_count": 103,
   "metadata": {},
   "outputs": [
    {
     "data": {
      "text/plain": [
       "0.7995789138798308"
      ]
     },
     "execution_count": 103,
     "metadata": {},
     "output_type": "execute_result"
    }
   ],
   "source": [
    "correlation = tsmc_data[\"Close\"].corr(soxx_data[\"Close\"])\n",
    "correlation"
   ]
  },
  {
   "cell_type": "code",
   "execution_count": 105,
   "metadata": {},
   "outputs": [
    {
     "data": {
      "text/plain": [
       "(-2.7961821710312424,\n",
       " 0.058821190619362515,\n",
       " 2,\n",
       " 227,\n",
       " {'1%': -3.4594900381360034,\n",
       "  '5%': -2.8743581895178485,\n",
       "  '10%': -2.573601605503697},\n",
       " 1258.550330362581)"
      ]
     },
     "execution_count": 105,
     "metadata": {},
     "output_type": "execute_result"
    }
   ],
   "source": [
    "adfuller(tsmc_data[\"Close\"])"
   ]
  },
  {
   "cell_type": "code",
   "execution_count": 115,
   "metadata": {},
   "outputs": [
    {
     "data": {
      "text/plain": [
       "<statsmodels.regression.linear_model.OLS at 0x2a5c9e81e88>"
      ]
     },
     "execution_count": 115,
     "metadata": {},
     "output_type": "execute_result"
    }
   ],
   "source": [
    "z_score = sm.OLS(tsmc_data[\"Close\"], soxx_data[\"Close\"])\n",
    "z_score"
   ]
  }
 ],
 "metadata": {
  "kernelspec": {
   "display_name": "Python 3",
   "language": "python",
   "name": "python3"
  },
  "language_info": {
   "codemirror_mode": {
    "name": "ipython",
    "version": 3
   },
   "file_extension": ".py",
   "mimetype": "text/x-python",
   "name": "python",
   "nbconvert_exporter": "python",
   "pygments_lexer": "ipython3",
   "version": "3.7.4"
  }
 },
 "nbformat": 4,
 "nbformat_minor": 2
}
