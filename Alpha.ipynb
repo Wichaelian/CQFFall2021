{
 "cells": [
  {
   "cell_type": "code",
   "execution_count": 202,
   "metadata": {},
   "outputs": [],
   "source": [
    "import numpy as np\n",
    "import pandas as pd\n",
    "import matplotlib.pyplot as plt\n",
    "import yfinance as yf\n",
    "import backtrader as bt\n",
    "from datetime import datetime\n",
    "import statsmodels\n",
    "import statsmodels.api as sm\n",
    "from statsmodels.tsa.stattools import adfuller\n",
    "from statsmodels.tsa.stattools import coint"
   ]
  },
  {
   "cell_type": "code",
   "execution_count": 195,
   "metadata": {},
   "outputs": [
    {
     "name": "stdout",
     "output_type": "stream",
     "text": [
      "[*********************100%***********************]  1 of 1 completed\n",
      "[*********************100%***********************]  1 of 1 completed\n",
      "[*********************100%***********************]  1 of 1 completed\n",
      "[*********************100%***********************]  1 of 1 completed\n",
      "[*********************100%***********************]  1 of 1 completed\n",
      "[*********************100%***********************]  1 of 1 completed\n",
      "[*********************100%***********************]  1 of 1 completed\n",
      "[*********************100%***********************]  1 of 1 completed\n"
     ]
    }
   ],
   "source": [
    "soxx_data = yf.download(\"SOXX\", start='2021-01-01')\n",
    "nvda_data = yf.download(\"NVDA\", start='2021-01-01')\n",
    "tsmc_data = yf.download(\"TSM\", start='2021-01-01')\n",
    "intc_data = yf.download(\"INTC\", start='2021-01-01')\n",
    "nxpi_data = yf.download(\"NXPI\", start='2021-01-01')\n",
    "avgo_data = yf.download(\"AVGO\", start='2021-01-01')\n",
    "txn_data = yf.download(\"TXN\", start='2021-01-01')\n",
    "amd_data = yf.download(\"AMD\", start='2021-01-01')\n",
    "data_list = [soxx_data, nvda_data, tsmc_data, intc_data, nxpi_data, avgo_data, txn_data, amd_data]\n",
    "data_list_names = [\"soxx_data\", \"nvda_data\", \"tsmc_data\", \"intc_data\", \"nxpi_data\", \"avgo_data\", \"txn_data\", \"amd_data\"]"
   ]
  },
  {
   "cell_type": "code",
   "execution_count": 153,
   "metadata": {},
   "outputs": [
    {
     "data": {
      "text/plain": [
       "0.9488188446068953"
      ]
     },
     "execution_count": 153,
     "metadata": {},
     "output_type": "execute_result"
    }
   ],
   "source": [
    "soxx_data[\"Close\"].corr(nvda_data[\"Close\"])"
   ]
  },
  {
   "cell_type": "code",
   "execution_count": 154,
   "metadata": {},
   "outputs": [
    {
     "data": {
      "text/plain": [
       "-0.003757109863184324"
      ]
     },
     "execution_count": 154,
     "metadata": {},
     "output_type": "execute_result"
    }
   ],
   "source": [
    "soxx_data[\"Close\"].corr(tsmc_data[\"Close\"])"
   ]
  },
  {
   "cell_type": "code",
   "execution_count": 155,
   "metadata": {},
   "outputs": [
    {
     "data": {
      "text/plain": [
       "-0.5278427450864056"
      ]
     },
     "execution_count": 155,
     "metadata": {},
     "output_type": "execute_result"
    }
   ],
   "source": [
    "soxx_data[\"Close\"].corr(intc_data[\"Close\"])"
   ]
  },
  {
   "cell_type": "code",
   "execution_count": 156,
   "metadata": {},
   "outputs": [
    {
     "data": {
      "text/plain": [
       "0.8022136853111411"
      ]
     },
     "execution_count": 156,
     "metadata": {},
     "output_type": "execute_result"
    }
   ],
   "source": [
    "soxx_data[\"Close\"].corr(nxpi_data[\"Close\"])"
   ]
  },
  {
   "cell_type": "code",
   "execution_count": 157,
   "metadata": {},
   "outputs": [
    {
     "data": {
      "text/plain": [
       "0.9453770724621768"
      ]
     },
     "execution_count": 157,
     "metadata": {},
     "output_type": "execute_result"
    }
   ],
   "source": [
    "soxx_data[\"Close\"].corr(avgo_data[\"Close\"])"
   ]
  },
  {
   "cell_type": "code",
   "execution_count": 212,
   "metadata": {},
   "outputs": [
    {
     "name": "stdout",
     "output_type": "stream",
     "text": [
      "txn_data\n",
      "(-2.985146098796241, 0.03630504539965115, 1, 229, {'1%': -3.4592326027153493, '5%': -2.8742454699025872, '10%': -2.5735414688888465}, 1090.7400906538635)\n",
      " \n",
      "nxpi_data txn_data\n",
      "(-2.738571606609665, 0.06759819572370056, 5, 225, {'1%': -3.4597521044060353, '5%': -2.874472927517147, '10%': -2.5736628197530864}, 1069.3197966495354)\n",
      " \n",
      "avgo_data amd_data\n",
      "0.0011199906533953213\n",
      " \n",
      "nxpi_data txn_data\n",
      "0.2688394803698743\n"
     ]
    }
   ],
   "source": [
    "pval = 1\n",
    "single_pval = 1\n",
    "coint_val = 1\n",
    "combo = 2\n",
    "for i1, ticker1 in enumerate(data_list):\n",
    "    single_stats = adfuller(ticker1[\"Close\"])\n",
    "    if single_stats[1] < single_pval:\n",
    "        single_pval = single_stats[1]\n",
    "        single_min_ticker = data_list_names[i1]\n",
    "        single_min = single_stats\n",
    "    for i2, ticker2 in enumerate(data_list[i1+1:]):\n",
    "        coint_res = coint(ticker1[\"Close\"], ticker2[\"Close\"])\n",
    "        if coint_res[1] < coint_val:\n",
    "            coint_val = coint_res[1]\n",
    "            coint_pair = data_list_names[i1] + \" \" + data_list_names[i1+i2+1]\n",
    "        model = sm.OLS(ticker1[\"Close\"], ticker2[\"Close\"]).fit()\n",
    "        test_res = adfuller(model.resid)\n",
    "        if test_res[1] < pval:\n",
    "            pval = test_res[1]\n",
    "            pair_tickers = data_list_names[i1] + \" \" + data_list_names[i1+i2+1]\n",
    "            pair = test_res\n",
    "        if test_res[1] + coint_res[1] < combo:\n",
    "            combo = test_res[1] + coint_res[1]\n",
    "            combo_tickers = data_list_names[i1] + \" \" + data_list_names[i1+i2+1]\n",
    "        \n",
    "print(single_min_ticker)\n",
    "print(single_min)\n",
    "print(\" \")\n",
    "print(pair_tickers)\n",
    "print(pair)\n",
    "print(\" \")\n",
    "print(coint_pair)\n",
    "print(coint_val)   \n",
    "print(\" \")\n",
    "print(combo_tickers)\n",
    "print(combo)\n",
    "    "
   ]
  },
  {
   "cell_type": "code",
   "execution_count": 220,
   "metadata": {},
   "outputs": [],
   "source": [
    "ratio = txn_data[\"Close\"] / nxpi_data[\"Close\"]\n",
    "z_score = (ratio - ratio.mean()) / np.std(ratio)\n",
    "std_up = np.mean(ratio) + np.std(z_score)\n",
    "std_down = np.mean(ratio) - np.std(z_score)"
   ]
  },
  {
   "cell_type": "code",
   "execution_count": 225,
   "metadata": {},
   "outputs": [
    {
     "data": {
      "text/plain": [
       "Date\n",
       "2021-01-04    1.525516\n",
       "2021-01-05    1.179297\n",
       "2021-01-06    0.873504\n",
       "2021-01-07    0.553941\n",
       "2021-01-08    0.980543\n",
       "                ...   \n",
       "2021-11-24   -1.413029\n",
       "2021-11-26   -1.172741\n",
       "2021-11-29   -1.598404\n",
       "2021-11-30   -1.756701\n",
       "2021-12-01   -1.788267\n",
       "Name: Close, Length: 231, dtype: float64"
      ]
     },
     "execution_count": 225,
     "metadata": {},
     "output_type": "execute_result"
    }
   ],
   "source": [
    "import backtrader as bt\n",
    "import backtrader.feeds as btfeeds\n",
    "import backtrader.indicators as btind\n",
    "\n",
    "\n",
    "class MultiDataStrategy(bt.Strategy):\n",
    "    '''\n",
    "    This strategy operates on 2 datas. The expectation is that the 2 datas are\n",
    "    correlated and the 2nd data is used to generate signals on the 1st\n",
    "\n",
    "      - Buy/Sell Operationss will be executed on the 1st data\n",
    "      - The signals are generated using a Simple Moving Average on the 2nd data\n",
    "        when the close price crosses upwwards/downwards\n",
    "\n",
    "    The strategy is a long-only strategy\n",
    "    '''\n",
    "    params = dict(\n",
    "        period=15,\n",
    "        stake=10,\n",
    "        printout=True,\n",
    "    )\n",
    "\n",
    "    def log(self, txt, dt=None):\n",
    "        if self.p.printout:\n",
    "            dt = dt or self.data.datetime[0]\n",
    "            dt = bt.num2date(dt)\n",
    "            print('%s, %s' % (dt.isoformat(), txt))\n",
    "\n",
    "    def notify_order(self, order):\n",
    "        if order.status in [bt.Order.Submitted, bt.Order.Accepted]:\n",
    "            return  # Await further notifications\n",
    "\n",
    "        if order.status == order.Completed:\n",
    "            if order.isbuy():\n",
    "                buytxt = 'BUY COMPLETE, %.2f' % order.executed.price\n",
    "                self.log(buytxt, order.executed.dt)\n",
    "            else:\n",
    "                selltxt = 'SELL COMPLETE, %.2f' % order.executed.price\n",
    "                self.log(selltxt, order.executed.dt)\n",
    "\n",
    "        elif order.status in [order.Expired, order.Canceled, order.Margin]:\n",
    "            self.log('%s ,' % order.Status[order.status])\n",
    "            pass  # Simply log\n",
    "\n",
    "        # Allow new orders\n",
    "        self.orderid = None\n",
    "\n",
    "    def __init__(self):\n",
    "        # To control operation entries\n",
    "        self.orderid = None\n",
    "\n",
    "        # Create SMA on 2nd data\n",
    "        ratio = self.data0 / self.data1\n",
    "        mean = bt.ind.SMA(ratio)\n",
    "        z_score = (ratio - mean) / bit.ind.stddev(ratio)\n",
    "        # Create a CrossOver Signal from close an moving average\n",
    "        top = bt.ind.CrossUp(z_score, 1)\n",
    "        bottom = bt.ind.CrossUp(z_score, -1)\n",
    "\n",
    "    def next(self):\n",
    "        if self.orderid:\n",
    "            return  # if an order is active, no new orders are allowed\n",
    "\n",
    "        if not self.position:  # not yet in market\n",
    "            if self.signal > 0.0:  # cross upwards\n",
    "                self.log('BUY CREATE , %.2f' % self.data1.close[0])\n",
    "                self.buy(size=self.p.stake)\n",
    "\n",
    "        else:  # in the market\n",
    "            if self.signal < 0.0:  # crosss downwards\n",
    "                self.log('SELL CREATE , %.2f' % self.data1.close[0])\n",
    "                self.sell(size=self.p.stake)\n",
    "\n",
    "    def stop(self):\n",
    "        print('==================================================')\n",
    "        print('Starting Value - %.2f' % self.broker.startingcash)\n",
    "        print('Ending   Value - %.2f' % self.broker.getvalue())\n",
    "        print('==================================================')\n",
    "\n",
    "\n",
    "def runstrategy():\n",
    "    args = parse_args()\n",
    "\n",
    "    # Create a cerebro\n",
    "    cerebro = bt.Cerebro()\n",
    "\n",
    "    # Get the dates from the args\n",
    "    fromdate = datetime.datetime.strptime(args.fromdate, '%Y-%m-%d')\n",
    "    todate = datetime.datetime.strptime(args.todate, '%Y-%m-%d')\n",
    "\n",
    "    # Create the 1st data\n",
    "    data0 = btfeeds.YahooFinanceCSVData(\n",
    "        dataname=args.data0,\n",
    "        fromdate=fromdate,\n",
    "        todate=todate)\n",
    "\n",
    "    # Add the 1st data to cerebro\n",
    "    cerebro.adddata(data0)\n",
    "\n",
    "    # Create the 2nd data\n",
    "    data1 = btfeeds.YahooFinanceCSVData(\n",
    "        dataname=args.data1,\n",
    "        fromdate=fromdate,\n",
    "        todate=todate)\n",
    "\n",
    "    # Add the 2nd data to cerebro\n",
    "    cerebro.adddata(data1)\n",
    "\n",
    "    # Add the strategy\n",
    "    cerebro.addstrategy(MultiDataStrategy,\n",
    "                        period=args.period,\n",
    "                        stake=args.stake)\n",
    "\n",
    "    # Add the commission - only stocks like a for each operation\n",
    "    cerebro.broker.setcash(args.cash)\n",
    "\n",
    "    # Add the commission - only stocks like a for each operation\n",
    "    cerebro.broker.setcommission(commission=args.commperc)\n",
    "\n",
    "    # And run it\n",
    "    cerebro.run()\n",
    "\n",
    "    # Plot if requested\n",
    "    if args.plot:\n",
    "        cerebro.plot(numfigs=args.numfigs, volume=False, zdown=False)\n",
    "\n",
    "\n",
    "def parse_args():\n",
    "    parser = argparse.ArgumentParser(description='MultiData Strategy')\n",
    "\n",
    "    parser.add_argument('--data0', '-d0',\n",
    "                        default='../../datas/orcl-1995-2014.txt',\n",
    "                        help='1st data into the system')\n",
    "\n",
    "    parser.add_argument('--data1', '-d1',\n",
    "                        default='../../datas/yhoo-1996-2014.txt',\n",
    "                        help='2nd data into the system')\n",
    "\n",
    "    parser.add_argument('--fromdate', '-f',\n",
    "                        default='2003-01-01',\n",
    "                        help='Starting date in YYYY-MM-DD format')\n",
    "\n",
    "    parser.add_argument('--todate', '-t',\n",
    "                        default='2005-12-31',\n",
    "                        help='Starting date in YYYY-MM-DD format')\n",
    "\n",
    "    parser.add_argument('--period', default=15, type=int,\n",
    "                        help='Period to apply to the Simple Moving Average')\n",
    "\n",
    "    parser.add_argument('--cash', default=100000, type=int,\n",
    "                        help='Starting Cash')\n",
    "\n",
    "    parser.add_argument('--commperc', default=0.005, type=float,\n",
    "                        help='Percentage commission for operation (0.005 is 0.5%%')\n",
    "\n",
    "    parser.add_argument('--stake', default=10, type=int,\n",
    "                        help='Stake to apply in each operation')\n",
    "\n",
    "    parser.add_argument('--plot', '-p', action='store_true',\n",
    "                        help='Plot the read data')\n",
    "\n",
    "    parser.add_argument('--numfigs', '-n', default=1,\n",
    "                        help='Plot using numfigs figures')\n",
    "\n",
    "    return parser.parse_args()\n",
    "\n",
    "\n",
    "if __name__ == '__main__':\n",
    "    runstrategy()"
   ]
  }
 ],
 "metadata": {
  "kernelspec": {
   "display_name": "Python 3",
   "language": "python",
   "name": "python3"
  },
  "language_info": {
   "codemirror_mode": {
    "name": "ipython",
    "version": 3
   },
   "file_extension": ".py",
   "mimetype": "text/x-python",
   "name": "python",
   "nbconvert_exporter": "python",
   "pygments_lexer": "ipython3",
   "version": "3.7.4"
  }
 },
 "nbformat": 4,
 "nbformat_minor": 2
}
