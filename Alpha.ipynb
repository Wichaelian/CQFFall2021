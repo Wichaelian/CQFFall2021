{
 "cells": [
  {
   "cell_type": "code",
   "execution_count": 202,
   "metadata": {},
   "outputs": [],
   "source": [
    "import numpy as np\n",
    "import pandas as pd\n",
    "import matplotlib.pyplot as plt\n",
    "import yfinance as yf\n",
    "import backtrader as bt\n",
    "from datetime import datetime\n",
    "import statsmodels\n",
    "import statsmodels.api as sm\n",
    "from statsmodels.tsa.stattools import adfuller\n",
    "from statsmodels.tsa.stattools import coint"
   ]
  },
  {
   "cell_type": "code",
   "execution_count": 195,
   "metadata": {},
   "outputs": [
    {
     "name": "stdout",
     "output_type": "stream",
     "text": [
      "[*********************100%***********************]  1 of 1 completed\n",
      "[*********************100%***********************]  1 of 1 completed\n",
      "[*********************100%***********************]  1 of 1 completed\n",
      "[*********************100%***********************]  1 of 1 completed\n",
      "[*********************100%***********************]  1 of 1 completed\n",
      "[*********************100%***********************]  1 of 1 completed\n",
      "[*********************100%***********************]  1 of 1 completed\n",
      "[*********************100%***********************]  1 of 1 completed\n"
     ]
    }
   ],
   "source": [
    "soxx_data = yf.download(\"SOXX\", start='2021-01-01')\n",
    "nvda_data = yf.download(\"NVDA\", start='2021-01-01')\n",
    "tsmc_data = yf.download(\"TSM\", start='2021-01-01')\n",
    "intc_data = yf.download(\"INTC\", start='2021-01-01')\n",
    "nxpi_data = yf.download(\"NXPI\", start='2021-01-01')\n",
    "avgo_data = yf.download(\"AVGO\", start='2021-01-01')\n",
    "txn_data = yf.download(\"TXN\", start='2021-01-01')\n",
    "amd_data = yf.download(\"AMD\", start='2021-01-01')\n",
    "data_list = [soxx_data, nvda_data, tsmc_data, intc_data, nxpi_data, avgo_data, txn_data, amd_data]\n",
    "data_list_names = [\"soxx_data\", \"nvda_data\", \"tsmc_data\", \"intc_data\", \"nxpi_data\", \"avgo_data\", \"txn_data\", \"amd_data\"]"
   ]
  },
  {
   "cell_type": "code",
   "execution_count": 153,
   "metadata": {},
   "outputs": [
    {
     "data": {
      "text/plain": [
       "0.9488188446068953"
      ]
     },
     "execution_count": 153,
     "metadata": {},
     "output_type": "execute_result"
    }
   ],
   "source": [
    "soxx_data[\"Close\"].corr(nvda_data[\"Close\"])"
   ]
  },
  {
   "cell_type": "code",
   "execution_count": 154,
   "metadata": {},
   "outputs": [
    {
     "data": {
      "text/plain": [
       "-0.003757109863184324"
      ]
     },
     "execution_count": 154,
     "metadata": {},
     "output_type": "execute_result"
    }
   ],
   "source": [
    "soxx_data[\"Close\"].corr(tsmc_data[\"Close\"])"
   ]
  },
  {
   "cell_type": "code",
   "execution_count": 155,
   "metadata": {},
   "outputs": [
    {
     "data": {
      "text/plain": [
       "-0.5278427450864056"
      ]
     },
     "execution_count": 155,
     "metadata": {},
     "output_type": "execute_result"
    }
   ],
   "source": [
    "soxx_data[\"Close\"].corr(intc_data[\"Close\"])"
   ]
  },
  {
   "cell_type": "code",
   "execution_count": 156,
   "metadata": {},
   "outputs": [
    {
     "data": {
      "text/plain": [
       "0.8022136853111411"
      ]
     },
     "execution_count": 156,
     "metadata": {},
     "output_type": "execute_result"
    }
   ],
   "source": [
    "soxx_data[\"Close\"].corr(nxpi_data[\"Close\"])"
   ]
  },
  {
   "cell_type": "code",
   "execution_count": 157,
   "metadata": {},
   "outputs": [
    {
     "data": {
      "text/plain": [
       "0.9453770724621768"
      ]
     },
     "execution_count": 157,
     "metadata": {},
     "output_type": "execute_result"
    }
   ],
   "source": [
    "soxx_data[\"Close\"].corr(avgo_data[\"Close\"])"
   ]
  },
  {
   "cell_type": "code",
   "execution_count": 212,
   "metadata": {},
   "outputs": [
    {
     "name": "stdout",
     "output_type": "stream",
     "text": [
      "txn_data\n",
      "(-2.985146098796241, 0.03630504539965115, 1, 229, {'1%': -3.4592326027153493, '5%': -2.8742454699025872, '10%': -2.5735414688888465}, 1090.7400906538635)\n",
      " \n",
      "nxpi_data txn_data\n",
      "(-2.738571606609665, 0.06759819572370056, 5, 225, {'1%': -3.4597521044060353, '5%': -2.874472927517147, '10%': -2.5736628197530864}, 1069.3197966495354)\n",
      " \n",
      "avgo_data amd_data\n",
      "0.0011199906533953213\n",
      " \n",
      "nxpi_data txn_data\n",
      "0.2688394803698743\n"
     ]
    }
   ],
   "source": [
    "pval = 1\n",
    "single_pval = 1\n",
    "coint_val = 1\n",
    "combo = 2\n",
    "for i1, ticker1 in enumerate(data_list):\n",
    "    single_stats = adfuller(ticker1[\"Close\"])\n",
    "    if single_stats[1] < single_pval:\n",
    "        single_pval = single_stats[1]\n",
    "        single_min_ticker = data_list_names[i1]\n",
    "        single_min = single_stats\n",
    "    for i2, ticker2 in enumerate(data_list[i1+1:]):\n",
    "        coint_res = coint(ticker1[\"Close\"], ticker2[\"Close\"])\n",
    "        if coint_res[1] < coint_val:\n",
    "            coint_val = coint_res[1]\n",
    "            coint_pair = data_list_names[i1] + \" \" + data_list_names[i1+i2+1]\n",
    "        model = sm.OLS(ticker1[\"Close\"], ticker2[\"Close\"]).fit()\n",
    "        test_res = adfuller(model.resid)\n",
    "        if test_res[1] < pval:\n",
    "            pval = test_res[1]\n",
    "            pair_tickers = data_list_names[i1] + \" \" + data_list_names[i1+i2+1]\n",
    "            pair = test_res\n",
    "        if test_res[1] + coint_res[1] < combo:\n",
    "            combo = test_res[1] + coint_res[1]\n",
    "            combo_tickers = data_list_names[i1] + \" \" + data_list_names[i1+i2+1]\n",
    "        \n",
    "print(single_min_ticker)\n",
    "print(single_min)\n",
    "print(\" \")\n",
    "print(pair_tickers)\n",
    "print(pair)\n",
    "print(\" \")\n",
    "print(coint_pair)\n",
    "print(coint_val)   \n",
    "print(\" \")\n",
    "print(combo_tickers)\n",
    "print(combo)\n",
    "    "
   ]
  },
  {
   "cell_type": "code",
   "execution_count": 220,
   "metadata": {},
   "outputs": [],
   "source": [
    "ratio = txn_data[\"Close\"] / nxpi_data[\"Close\"]\n",
    "z_score = (ratio - ratio.mean()) / np.std(ratio)\n",
    "std_up = np.mean(ratio) + np.std(z_score)\n",
    "std_down = np.mean(ratio) - np.std(z_score)"
   ]
  },
  {
   "cell_type": "code",
   "execution_count": null,
   "metadata": {},
   "outputs": [
    {
     "name": "stdout",
     "output_type": "stream",
     "text": [
      "[*********************100%***********************]  1 of 1 completed\n",
      "[*********************100%***********************]  1 of 1 completed\n"
     ]
    }
   ],
   "source": [
    "class TXN_NXPI(bt.Strategy):\n",
    "    '''\n",
    "    This strategy operates on 2 datas. The expectation is that the 2 datas are\n",
    "    correlated and the 2nd data is used to generate signals on the 1st\n",
    "\n",
    "      - Buy/Sell Operationss will be executed on the 1st data\n",
    "      - The signals are generated using a Simple Moving Average on the 2nd data\n",
    "        when the close price crosses upwwards/downwards\n",
    "\n",
    "    The strategy is a long-only strategy\n",
    "    '''\n",
    "    params = dict(\n",
    "        period=10,\n",
    "        stake=10,\n",
    "        qty1=0,\n",
    "        qty2=0,\n",
    "        printout=True,\n",
    "        status=0,\n",
    "        portfolio_value=10000,\n",
    "    )\n",
    "\n",
    "    def log(self, txt, dt=None):\n",
    "        if self.p.printout:\n",
    "            dt = dt or self.data.datetime[0]\n",
    "            dt = bt.num2date(dt)\n",
    "            print('%s, %s' % (dt.isoformat(), txt))\n",
    "\n",
    "    def notify_order(self, order):\n",
    "        if order.status in [bt.Order.Submitted, bt.Order.Accepted]:\n",
    "            return  # Await further notifications\n",
    "\n",
    "        if order.status == order.Completed:\n",
    "            if order.isbuy():\n",
    "                buytxt = 'BUY COMPLETE, %.2f' % order.executed.price\n",
    "                self.log(buytxt, order.executed.dt)\n",
    "            else:\n",
    "                selltxt = 'SELL COMPLETE, %.2f' % order.executed.price\n",
    "                self.log(selltxt, order.executed.dt)\n",
    "\n",
    "        elif order.status in [order.Expired, order.Canceled, order.Margin]:\n",
    "            self.log('%s ,' % order.Status[order.status])\n",
    "            pass  # Simply log\n",
    "\n",
    "        # Allow new orders\n",
    "        self.orderid = None\n",
    "\n",
    "    def __init__(self):\n",
    "        # To control operation entries\n",
    "        self.orderid = None\n",
    "        self.qty1 = self.params.qty1\n",
    "        self.qty2 = self.params.qty2\n",
    "        self.status = self.params.status\n",
    "        self.portfolio_value = self.p.portfolio_value\n",
    "\n",
    "        # Create SMA on 2nd data\n",
    "        ratio = self.data0.close[0] / self.data1.close[0]\n",
    "        mean = bt.ind.SMA(ratio)\n",
    "        self.z_score = (ratio - mean) / bt.ind.StandardDeviation(ratio)\n",
    "        # Create a CrossOver Signal from close an moving average\n",
    "        \n",
    "\n",
    "    def next(self):\n",
    "        if self.orderid:\n",
    "            return  # if an order is active, no new orders are allowed\n",
    "\n",
    "        if (self.z_score > 1) and (self.status != 1):\n",
    "\n",
    "            # Calculating the number of shares for each stock\n",
    "            value = 0.5 * self.portfolio_value  # Divide the cash equally\n",
    "            x = int(value / (self.data0.close))  # Find the number of shares for Stock1\n",
    "            y = int(value / (self.data1.close))  # Find the number of shares for Stock2\n",
    "            print('x + self.qty1 is', x + self.qty1)\n",
    "            print('y + self.qty2 is', y + self.qty2)\n",
    "\n",
    "            # Placing the order\n",
    "            self.log('SELL CREATE %s, price = %.2f, qty = %d' % (\"TXN\", self.data0.close[0], x + self.qty1))\n",
    "            self.sell(data=self.data0, size=(x + self.qty1))  # Place an order for buying y + qty2 shares\n",
    "            self.log('BUY CREATE %s, price = %.2f, qty = %d' % (\"NXPI\", self.data1.close[0], y + self.qty2))\n",
    "            self.buy(data=self.data1, size=(y + self.qty2))  # Place an order for selling x + qty1 shares\n",
    "\n",
    "            # Updating the counters with new value\n",
    "            self.qty1 = x  # The new open position quantity for Stock1 is x shares\n",
    "            self.qty2 = y  # The new open position quantity for Stock2 is y shares\n",
    "\n",
    "            self.status = 1  # The current status is \"short the spread\"\n",
    "\n",
    "            # Step 3: Check conditions for LONG & place the order\n",
    "            # Checking the condition for LONG\n",
    "        elif (self.z_score < -1) and (self.status != 2):\n",
    "\n",
    "            # Calculating the number of shares for each stock\n",
    "            value = 0.5 * self.portfolio_value  # Divide the cash equally\n",
    "            x = int(value / (self.data0.close))  # Find the number of shares for Stock1\n",
    "            y = int(value / (self.data1.close))  # Find the number of shares for Stock2\n",
    "            print('x + self.qty1 is', x + self.qty1)\n",
    "            print('y + self.qty2 is', y + self.qty2)\n",
    "\n",
    "            # Place the order\n",
    "            self.log('BUY CREATE %s, price = %.2f, qty = %d' % (\"PEP\", self.data0.close[0], x + self.qty1))\n",
    "            self.buy(data=self.data0, size=(x + self.qty1))  # Place an order for buying x + qty1 shares\n",
    "            self.log('SELL CREATE %s, price = %.2f, qty = %d' % (\"KO\", self.data1.close[0], y + self.qty2))\n",
    "            self.sell(data=self.data1, size=(y + self.qty2))  # Place an order for selling y + qty2 shares\n",
    "\n",
    "            # Updating the counters with new value\n",
    "            self.qty1 = x  # The new open position quantity for Stock1 is x shares\n",
    "            self.qty2 = y  # The new open position quantity for Stock2 is y shares\n",
    "            self.status = 2  # The current status is \"long the spread\"\n",
    "\n",
    "\n",
    "            # Step 4: Check conditions for No Trade\n",
    "            # If the z-score is within the two bounds, close all\n",
    "        \"\"\"\n",
    "        elif (self.zscore[0] < self.up_medium and self.zscore[0] > self.low_medium):\n",
    "            self.log('CLOSE LONG %s, price = %.2f' % (\"PEP\", self.data0.close[0]))\n",
    "            self.close(self.data0)\n",
    "            self.log('CLOSE LONG %s, price = %.2f' % (\"KO\", self.data1.close[0]))\n",
    "            self.close(self.data1)\n",
    "        \"\"\"\n",
    "\n",
    "            \n",
    "    def stop(self):\n",
    "        print('==================================================')\n",
    "        print('Starting Value - %.2f' % self.broker.startingcash)\n",
    "        print('Ending   Value - %.2f' % self.broker.getvalue())\n",
    "        print('==================================================')\n",
    "\n",
    "\n",
    "\n",
    "cerebro = bt.Cerebro()\n",
    "cerebro.addstrategy(TXN_NXPI)\n",
    "cerebro.broker.setcash(10000.0)\n",
    "cerebro.broker.setcommission(commission=0.002)\n",
    "\n",
    "NXPI = yf.download(\"NXPI\", start='2021-01-01')\n",
    "data0 = bt.feeds.PandasData(dataname=NXPI)\n",
    "cerebro.adddata(data0)\n",
    "\n",
    "TXN = yf.download(\"TXN\", start='2021-01-01')\n",
    "data1 = bt.feeds.PandasData(dataname=TXN)\n",
    "cerebro.adddata(data1)\n",
    "\n",
    "cerebro.run()\n",
    "print(cerebro.broker.getvalue())\n",
    "cerebro.plot()"
   ]
  }
 ],
 "metadata": {
  "kernelspec": {
   "display_name": "Python 3",
   "language": "python",
   "name": "python3"
  },
  "language_info": {
   "codemirror_mode": {
    "name": "ipython",
    "version": 3
   },
   "file_extension": ".py",
   "mimetype": "text/x-python",
   "name": "python",
   "nbconvert_exporter": "python",
   "pygments_lexer": "ipython3",
   "version": "3.7.4"
  }
 },
 "nbformat": 4,
 "nbformat_minor": 2
}
