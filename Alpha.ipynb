{
 "cells": [
  {
   "cell_type": "code",
   "execution_count": 202,
   "metadata": {},
   "outputs": [],
   "source": [
    "import numpy as np\n",
    "import pandas as pd\n",
    "import matplotlib.pyplot as plt\n",
    "import yfinance as yf\n",
    "import backtrader as bt\n",
    "from datetime import datetime\n",
    "import statsmodels\n",
    "import statsmodels.api as sm\n",
    "from statsmodels.tsa.stattools import adfuller\n",
    "from statsmodels.tsa.stattools import coint"
   ]
  },
  {
   "cell_type": "code",
   "execution_count": 195,
   "metadata": {},
   "outputs": [
    {
     "name": "stdout",
     "output_type": "stream",
     "text": [
      "[*********************100%***********************]  1 of 1 completed\n",
      "[*********************100%***********************]  1 of 1 completed\n",
      "[*********************100%***********************]  1 of 1 completed\n",
      "[*********************100%***********************]  1 of 1 completed\n",
      "[*********************100%***********************]  1 of 1 completed\n",
      "[*********************100%***********************]  1 of 1 completed\n",
      "[*********************100%***********************]  1 of 1 completed\n",
      "[*********************100%***********************]  1 of 1 completed\n"
     ]
    }
   ],
   "source": [
    "soxx_data = yf.download(\"SOXX\", start='2021-01-01')\n",
    "nvda_data = yf.download(\"NVDA\", start='2021-01-01')\n",
    "tsmc_data = yf.download(\"TSM\", start='2021-01-01')\n",
    "intc_data = yf.download(\"INTC\", start='2021-01-01')\n",
    "nxpi_data = yf.download(\"NXPI\", start='2021-01-01')\n",
    "avgo_data = yf.download(\"AVGO\", start='2021-01-01')\n",
    "txn_data = yf.download(\"TXN\", start='2021-01-01')\n",
    "amd_data = yf.download(\"AMD\", start='2021-01-01')\n",
    "data_list = [soxx_data, nvda_data, tsmc_data, intc_data, nxpi_data, avgo_data, txn_data, amd_data]\n",
    "data_list_names = [\"soxx_data\", \"nvda_data\", \"tsmc_data\", \"intc_data\", \"nxpi_data\", \"avgo_data\", \"txn_data\", \"amd_data\"]"
   ]
  },
  {
   "cell_type": "code",
   "execution_count": 153,
   "metadata": {},
   "outputs": [
    {
     "data": {
      "text/plain": [
       "0.9488188446068953"
      ]
     },
     "execution_count": 153,
     "metadata": {},
     "output_type": "execute_result"
    }
   ],
   "source": [
    "soxx_data[\"Close\"].corr(nvda_data[\"Close\"])"
   ]
  },
  {
   "cell_type": "code",
   "execution_count": 154,
   "metadata": {},
   "outputs": [
    {
     "data": {
      "text/plain": [
       "-0.003757109863184324"
      ]
     },
     "execution_count": 154,
     "metadata": {},
     "output_type": "execute_result"
    }
   ],
   "source": [
    "soxx_data[\"Close\"].corr(tsmc_data[\"Close\"])"
   ]
  },
  {
   "cell_type": "code",
   "execution_count": 155,
   "metadata": {},
   "outputs": [
    {
     "data": {
      "text/plain": [
       "-0.5278427450864056"
      ]
     },
     "execution_count": 155,
     "metadata": {},
     "output_type": "execute_result"
    }
   ],
   "source": [
    "soxx_data[\"Close\"].corr(intc_data[\"Close\"])"
   ]
  },
  {
   "cell_type": "code",
   "execution_count": 156,
   "metadata": {},
   "outputs": [
    {
     "data": {
      "text/plain": [
       "0.8022136853111411"
      ]
     },
     "execution_count": 156,
     "metadata": {},
     "output_type": "execute_result"
    }
   ],
   "source": [
    "soxx_data[\"Close\"].corr(nxpi_data[\"Close\"])"
   ]
  },
  {
   "cell_type": "code",
   "execution_count": 157,
   "metadata": {},
   "outputs": [
    {
     "data": {
      "text/plain": [
       "0.9453770724621768"
      ]
     },
     "execution_count": 157,
     "metadata": {},
     "output_type": "execute_result"
    }
   ],
   "source": [
    "soxx_data[\"Close\"].corr(avgo_data[\"Close\"])"
   ]
  },
  {
   "cell_type": "code",
   "execution_count": 212,
   "metadata": {},
   "outputs": [
    {
     "name": "stdout",
     "output_type": "stream",
     "text": [
      "txn_data\n",
      "(-2.985146098796241, 0.03630504539965115, 1, 229, {'1%': -3.4592326027153493, '5%': -2.8742454699025872, '10%': -2.5735414688888465}, 1090.7400906538635)\n",
      " \n",
      "nxpi_data txn_data\n",
      "(-2.738571606609665, 0.06759819572370056, 5, 225, {'1%': -3.4597521044060353, '5%': -2.874472927517147, '10%': -2.5736628197530864}, 1069.3197966495354)\n",
      " \n",
      "avgo_data amd_data\n",
      "0.0011199906533953213\n",
      " \n",
      "nxpi_data txn_data\n",
      "0.2688394803698743\n"
     ]
    }
   ],
   "source": [
    "pval = 1\n",
    "single_pval = 1\n",
    "coint_val = 1\n",
    "combo = 2\n",
    "for i1, ticker1 in enumerate(data_list):\n",
    "    single_stats = adfuller(ticker1[\"Close\"])\n",
    "    if single_stats[1] < single_pval:\n",
    "        single_pval = single_stats[1]\n",
    "        single_min_ticker = data_list_names[i1]\n",
    "        single_min = single_stats\n",
    "    for i2, ticker2 in enumerate(data_list[i1+1:]):\n",
    "        coint_res = coint(ticker1[\"Close\"], ticker2[\"Close\"])\n",
    "        if coint_res[1] < coint_val:\n",
    "            coint_val = coint_res[1]\n",
    "            coint_pair = data_list_names[i1] + \" \" + data_list_names[i1+i2+1]\n",
    "        model = sm.OLS(ticker1[\"Close\"], ticker2[\"Close\"]).fit()\n",
    "        test_res = adfuller(model.resid)\n",
    "        if test_res[1] < pval:\n",
    "            pval = test_res[1]\n",
    "            pair_tickers = data_list_names[i1] + \" \" + data_list_names[i1+i2+1]\n",
    "            pair = test_res\n",
    "        if test_res[1] + coint_res[1] < combo:\n",
    "            combo = test_res[1] + coint_res[1]\n",
    "            combo_tickers = data_list_names[i1] + \" \" + data_list_names[i1+i2+1]\n",
    "        \n",
    "print(single_min_ticker)\n",
    "print(single_min)\n",
    "print(\" \")\n",
    "print(pair_tickers)\n",
    "print(pair)\n",
    "print(\" \")\n",
    "print(coint_pair)\n",
    "print(coint_val)   \n",
    "print(\" \")\n",
    "print(combo_tickers)\n",
    "print(combo)\n",
    "    "
   ]
  },
  {
   "cell_type": "code",
   "execution_count": 255,
   "metadata": {},
   "outputs": [],
   "source": [
    "ratio = txn_data[\"Close\"] / nxpi_data[\"Close\"]\n",
    "z_score = (ratio - ratio.mean()) / np.std(ratio)\n",
    "std_up = np.mean(ratio) + np.std(z_score)\n",
    "std_down = np.mean(ratio) - np.std(z_score)"
   ]
  },
  {
   "cell_type": "code",
   "execution_count": 256,
   "metadata": {},
   "outputs": [
    {
     "name": "stdout",
     "output_type": "stream",
     "text": [
      "[*********************100%***********************]  1 of 1 completed\n",
      "[*********************100%***********************]  1 of 1 completed\n",
      "1\n",
      "x + self.qty1 is 25\n",
      "y + self.qty2 is 27\n"
     ]
    },
    {
     "ename": "TypeError",
     "evalue": "must be real number, not LineBuffer",
     "output_type": "error",
     "traceback": [
      "\u001b[1;31m---------------------------------------------------------------------------\u001b[0m",
      "\u001b[1;31mTypeError\u001b[0m                                 Traceback (most recent call last)",
      "\u001b[1;32m<ipython-input-256-b99f85665948>\u001b[0m in \u001b[0;36m<module>\u001b[1;34m\u001b[0m\n\u001b[0;32m    131\u001b[0m \u001b[0mcerebro\u001b[0m\u001b[1;33m.\u001b[0m\u001b[0madddata\u001b[0m\u001b[1;33m(\u001b[0m\u001b[0mdata1\u001b[0m\u001b[1;33m)\u001b[0m\u001b[1;33m\u001b[0m\u001b[1;33m\u001b[0m\u001b[0m\n\u001b[0;32m    132\u001b[0m \u001b[1;33m\u001b[0m\u001b[0m\n\u001b[1;32m--> 133\u001b[1;33m \u001b[0mcerebro\u001b[0m\u001b[1;33m.\u001b[0m\u001b[0mrun\u001b[0m\u001b[1;33m(\u001b[0m\u001b[1;33m)\u001b[0m\u001b[1;33m\u001b[0m\u001b[1;33m\u001b[0m\u001b[0m\n\u001b[0m\u001b[0;32m    134\u001b[0m \u001b[0mcerebro\u001b[0m\u001b[1;33m.\u001b[0m\u001b[0mplot\u001b[0m\u001b[1;33m(\u001b[0m\u001b[1;33m)\u001b[0m\u001b[1;33m\u001b[0m\u001b[1;33m\u001b[0m\u001b[0m\n",
      "\u001b[1;32m~\\Anaconda3\\lib\\site-packages\\backtrader\\cerebro.py\u001b[0m in \u001b[0;36mrun\u001b[1;34m(self, **kwargs)\u001b[0m\n\u001b[0;32m   1125\u001b[0m             \u001b[1;31m# let's skip process \"spawning\"\u001b[0m\u001b[1;33m\u001b[0m\u001b[1;33m\u001b[0m\u001b[1;33m\u001b[0m\u001b[0m\n\u001b[0;32m   1126\u001b[0m             \u001b[1;32mfor\u001b[0m \u001b[0miterstrat\u001b[0m \u001b[1;32min\u001b[0m \u001b[0miterstrats\u001b[0m\u001b[1;33m:\u001b[0m\u001b[1;33m\u001b[0m\u001b[1;33m\u001b[0m\u001b[0m\n\u001b[1;32m-> 1127\u001b[1;33m                 \u001b[0mrunstrat\u001b[0m \u001b[1;33m=\u001b[0m \u001b[0mself\u001b[0m\u001b[1;33m.\u001b[0m\u001b[0mrunstrategies\u001b[0m\u001b[1;33m(\u001b[0m\u001b[0miterstrat\u001b[0m\u001b[1;33m)\u001b[0m\u001b[1;33m\u001b[0m\u001b[1;33m\u001b[0m\u001b[0m\n\u001b[0m\u001b[0;32m   1128\u001b[0m                 \u001b[0mself\u001b[0m\u001b[1;33m.\u001b[0m\u001b[0mrunstrats\u001b[0m\u001b[1;33m.\u001b[0m\u001b[0mappend\u001b[0m\u001b[1;33m(\u001b[0m\u001b[0mrunstrat\u001b[0m\u001b[1;33m)\u001b[0m\u001b[1;33m\u001b[0m\u001b[1;33m\u001b[0m\u001b[0m\n\u001b[0;32m   1129\u001b[0m                 \u001b[1;32mif\u001b[0m \u001b[0mself\u001b[0m\u001b[1;33m.\u001b[0m\u001b[0m_dooptimize\u001b[0m\u001b[1;33m:\u001b[0m\u001b[1;33m\u001b[0m\u001b[1;33m\u001b[0m\u001b[0m\n",
      "\u001b[1;32m~\\Anaconda3\\lib\\site-packages\\backtrader\\cerebro.py\u001b[0m in \u001b[0;36mrunstrategies\u001b[1;34m(self, iterstrat, predata)\u001b[0m\n\u001b[0;32m   1291\u001b[0m                     \u001b[0mself\u001b[0m\u001b[1;33m.\u001b[0m\u001b[0m_runonce_old\u001b[0m\u001b[1;33m(\u001b[0m\u001b[0mrunstrats\u001b[0m\u001b[1;33m)\u001b[0m\u001b[1;33m\u001b[0m\u001b[1;33m\u001b[0m\u001b[0m\n\u001b[0;32m   1292\u001b[0m                 \u001b[1;32melse\u001b[0m\u001b[1;33m:\u001b[0m\u001b[1;33m\u001b[0m\u001b[1;33m\u001b[0m\u001b[0m\n\u001b[1;32m-> 1293\u001b[1;33m                     \u001b[0mself\u001b[0m\u001b[1;33m.\u001b[0m\u001b[0m_runonce\u001b[0m\u001b[1;33m(\u001b[0m\u001b[0mrunstrats\u001b[0m\u001b[1;33m)\u001b[0m\u001b[1;33m\u001b[0m\u001b[1;33m\u001b[0m\u001b[0m\n\u001b[0m\u001b[0;32m   1294\u001b[0m             \u001b[1;32melse\u001b[0m\u001b[1;33m:\u001b[0m\u001b[1;33m\u001b[0m\u001b[1;33m\u001b[0m\u001b[0m\n\u001b[0;32m   1295\u001b[0m                 \u001b[1;32mif\u001b[0m \u001b[0mself\u001b[0m\u001b[1;33m.\u001b[0m\u001b[0mp\u001b[0m\u001b[1;33m.\u001b[0m\u001b[0moldsync\u001b[0m\u001b[1;33m:\u001b[0m\u001b[1;33m\u001b[0m\u001b[1;33m\u001b[0m\u001b[0m\n",
      "\u001b[1;32m~\\Anaconda3\\lib\\site-packages\\backtrader\\cerebro.py\u001b[0m in \u001b[0;36m_runonce\u001b[1;34m(self, runstrats)\u001b[0m\n\u001b[0;32m   1693\u001b[0m \u001b[1;33m\u001b[0m\u001b[0m\n\u001b[0;32m   1694\u001b[0m             \u001b[1;32mfor\u001b[0m \u001b[0mstrat\u001b[0m \u001b[1;32min\u001b[0m \u001b[0mrunstrats\u001b[0m\u001b[1;33m:\u001b[0m\u001b[1;33m\u001b[0m\u001b[1;33m\u001b[0m\u001b[0m\n\u001b[1;32m-> 1695\u001b[1;33m                 \u001b[0mstrat\u001b[0m\u001b[1;33m.\u001b[0m\u001b[0m_oncepost\u001b[0m\u001b[1;33m(\u001b[0m\u001b[0mdt0\u001b[0m\u001b[1;33m)\u001b[0m\u001b[1;33m\u001b[0m\u001b[1;33m\u001b[0m\u001b[0m\n\u001b[0m\u001b[0;32m   1696\u001b[0m                 \u001b[1;32mif\u001b[0m \u001b[0mself\u001b[0m\u001b[1;33m.\u001b[0m\u001b[0m_event_stop\u001b[0m\u001b[1;33m:\u001b[0m  \u001b[1;31m# stop if requested\u001b[0m\u001b[1;33m\u001b[0m\u001b[1;33m\u001b[0m\u001b[0m\n\u001b[0;32m   1697\u001b[0m                     \u001b[1;32mreturn\u001b[0m\u001b[1;33m\u001b[0m\u001b[1;33m\u001b[0m\u001b[0m\n",
      "\u001b[1;32m~\\Anaconda3\\lib\\site-packages\\backtrader\\strategy.py\u001b[0m in \u001b[0;36m_oncepost\u001b[1;34m(self, dt)\u001b[0m\n\u001b[0;32m    309\u001b[0m             \u001b[0mself\u001b[0m\u001b[1;33m.\u001b[0m\u001b[0mnext\u001b[0m\u001b[1;33m(\u001b[0m\u001b[1;33m)\u001b[0m\u001b[1;33m\u001b[0m\u001b[1;33m\u001b[0m\u001b[0m\n\u001b[0;32m    310\u001b[0m         \u001b[1;32melif\u001b[0m \u001b[0mminperstatus\u001b[0m \u001b[1;33m==\u001b[0m \u001b[1;36m0\u001b[0m\u001b[1;33m:\u001b[0m\u001b[1;33m\u001b[0m\u001b[1;33m\u001b[0m\u001b[0m\n\u001b[1;32m--> 311\u001b[1;33m             \u001b[0mself\u001b[0m\u001b[1;33m.\u001b[0m\u001b[0mnextstart\u001b[0m\u001b[1;33m(\u001b[0m\u001b[1;33m)\u001b[0m  \u001b[1;31m# only called for the 1st value\u001b[0m\u001b[1;33m\u001b[0m\u001b[1;33m\u001b[0m\u001b[0m\n\u001b[0m\u001b[0;32m    312\u001b[0m         \u001b[1;32melse\u001b[0m\u001b[1;33m:\u001b[0m\u001b[1;33m\u001b[0m\u001b[1;33m\u001b[0m\u001b[0m\n\u001b[0;32m    313\u001b[0m             \u001b[0mself\u001b[0m\u001b[1;33m.\u001b[0m\u001b[0mprenext\u001b[0m\u001b[1;33m(\u001b[0m\u001b[1;33m)\u001b[0m\u001b[1;33m\u001b[0m\u001b[1;33m\u001b[0m\u001b[0m\n",
      "\u001b[1;32m~\\Anaconda3\\lib\\site-packages\\backtrader\\lineiterator.py\u001b[0m in \u001b[0;36mnextstart\u001b[1;34m(self)\u001b[0m\n\u001b[0;32m    345\u001b[0m \u001b[1;33m\u001b[0m\u001b[0m\n\u001b[0;32m    346\u001b[0m         \u001b[1;31m# Called once for 1st full calculation - defaults to regular next\u001b[0m\u001b[1;33m\u001b[0m\u001b[1;33m\u001b[0m\u001b[1;33m\u001b[0m\u001b[0m\n\u001b[1;32m--> 347\u001b[1;33m         \u001b[0mself\u001b[0m\u001b[1;33m.\u001b[0m\u001b[0mnext\u001b[0m\u001b[1;33m(\u001b[0m\u001b[1;33m)\u001b[0m\u001b[1;33m\u001b[0m\u001b[1;33m\u001b[0m\u001b[0m\n\u001b[0m\u001b[0;32m    348\u001b[0m \u001b[1;33m\u001b[0m\u001b[0m\n\u001b[0;32m    349\u001b[0m     \u001b[1;32mdef\u001b[0m \u001b[0mnext\u001b[0m\u001b[1;33m(\u001b[0m\u001b[0mself\u001b[0m\u001b[1;33m)\u001b[0m\u001b[1;33m:\u001b[0m\u001b[1;33m\u001b[0m\u001b[1;33m\u001b[0m\u001b[0m\n",
      "\u001b[1;32m<ipython-input-256-b99f85665948>\u001b[0m in \u001b[0;36mnext\u001b[1;34m(self)\u001b[0m\n\u001b[0;32m     64\u001b[0m \u001b[1;33m\u001b[0m\u001b[0m\n\u001b[0;32m     65\u001b[0m             \u001b[1;31m# Placing the order\u001b[0m\u001b[1;33m\u001b[0m\u001b[1;33m\u001b[0m\u001b[1;33m\u001b[0m\u001b[0m\n\u001b[1;32m---> 66\u001b[1;33m             \u001b[0mself\u001b[0m\u001b[1;33m.\u001b[0m\u001b[0mlog\u001b[0m\u001b[1;33m(\u001b[0m\u001b[1;34m'SELL CREATE %s, price = %.2f, qty = %d'\u001b[0m \u001b[1;33m%\u001b[0m \u001b[1;33m(\u001b[0m\u001b[1;34m\"TXN\"\u001b[0m\u001b[1;33m,\u001b[0m \u001b[0mself\u001b[0m\u001b[1;33m.\u001b[0m\u001b[0mdata0\u001b[0m\u001b[1;33m.\u001b[0m\u001b[0mclose\u001b[0m\u001b[1;33m,\u001b[0m \u001b[0mx\u001b[0m \u001b[1;33m+\u001b[0m \u001b[0mself\u001b[0m\u001b[1;33m.\u001b[0m\u001b[0mqty1\u001b[0m\u001b[1;33m)\u001b[0m\u001b[1;33m)\u001b[0m\u001b[1;33m\u001b[0m\u001b[1;33m\u001b[0m\u001b[0m\n\u001b[0m\u001b[0;32m     67\u001b[0m             \u001b[0mself\u001b[0m\u001b[1;33m.\u001b[0m\u001b[0msell\u001b[0m\u001b[1;33m(\u001b[0m\u001b[0mdata\u001b[0m\u001b[1;33m=\u001b[0m\u001b[0mself\u001b[0m\u001b[1;33m.\u001b[0m\u001b[0mdata0\u001b[0m\u001b[1;33m,\u001b[0m \u001b[0msize\u001b[0m\u001b[1;33m=\u001b[0m\u001b[1;33m(\u001b[0m\u001b[0mx\u001b[0m \u001b[1;33m+\u001b[0m \u001b[0mself\u001b[0m\u001b[1;33m.\u001b[0m\u001b[0mqty1\u001b[0m\u001b[1;33m)\u001b[0m\u001b[1;33m)\u001b[0m  \u001b[1;31m# Place an order for buying y + qty2 shares\u001b[0m\u001b[1;33m\u001b[0m\u001b[1;33m\u001b[0m\u001b[0m\n\u001b[0;32m     68\u001b[0m             \u001b[0mself\u001b[0m\u001b[1;33m.\u001b[0m\u001b[0mlog\u001b[0m\u001b[1;33m(\u001b[0m\u001b[1;34m'BUY CREATE %s, price = %.2f, qty = %d'\u001b[0m \u001b[1;33m%\u001b[0m \u001b[1;33m(\u001b[0m\u001b[1;34m\"NXPI\"\u001b[0m\u001b[1;33m,\u001b[0m \u001b[0mself\u001b[0m\u001b[1;33m.\u001b[0m\u001b[0mdata1\u001b[0m\u001b[1;33m.\u001b[0m\u001b[0mclose\u001b[0m\u001b[1;33m,\u001b[0m \u001b[0my\u001b[0m \u001b[1;33m+\u001b[0m \u001b[0mself\u001b[0m\u001b[1;33m.\u001b[0m\u001b[0mqty2\u001b[0m\u001b[1;33m)\u001b[0m\u001b[1;33m)\u001b[0m\u001b[1;33m\u001b[0m\u001b[1;33m\u001b[0m\u001b[0m\n",
      "\u001b[1;31mTypeError\u001b[0m: must be real number, not LineBuffer"
     ]
    }
   ],
   "source": [
    "class TXN_NXPI(bt.Strategy):\n",
    "    \n",
    "    params = dict(\n",
    "        period=10,\n",
    "        stake=10,\n",
    "        qty1=0,\n",
    "        qty2=0,\n",
    "        printout=True,\n",
    "        status=0,\n",
    "        portfolio_value=10000,\n",
    "    )\n",
    "\n",
    "    def log(self, txt, dt=None):\n",
    "        if self.params.printout:\n",
    "            dt = dt or self.data.datetime[0]\n",
    "            dt = bt.num2date(dt)\n",
    "            print('%s, %s' % (dt.isoformat(), txt))\n",
    "\n",
    "    def notify_order(self, order):\n",
    "        if order.status in [bt.Order.Submitted, bt.Order.Accepted]:\n",
    "            return  # Await further notifications\n",
    "\n",
    "        if order.status == order.Completed:\n",
    "            if order.isbuy():\n",
    "                buytxt = 'BUY COMPLETE, %.2f' % order.executed.price\n",
    "                self.log(buytxt, order.executed.dt)\n",
    "            else:\n",
    "                selltxt = 'SELL COMPLETE, %.2f' % order.executed.price\n",
    "                self.log(selltxt, order.executed.dt)\n",
    "\n",
    "        elif order.status in [order.Expired, order.Canceled, order.Margin]:\n",
    "            self.log('%s ,' % order.Status[order.status])\n",
    "            pass  # Simply log\n",
    "\n",
    "        # Allow new orders\n",
    "        self.orderid = False\n",
    "\n",
    "    def __init__(self):\n",
    "        # To control operation entries\n",
    "        self.orderid = False\n",
    "        self.qty1 = self.params.qty1\n",
    "        self.qty2 = self.params.qty2\n",
    "        self.status = self.params.status\n",
    "        self.portfolio_value = self.params.portfolio_value\n",
    "\n",
    "        ratio = self.data0.close / self.data1.close\n",
    "        mean = bt.ind.SMA(ratio)\n",
    "        self.z_score = (ratio - mean) / bt.ind.StandardDeviation(ratio)\n",
    "        \n",
    "\n",
    "    def next(self):\n",
    "        if self.orderid != False:\n",
    "            return  # if an order is active, no new orders are allowed\n",
    "\n",
    "        if (self.z_score > 1) and (self.status != 1):\n",
    "            print(\"1\")\n",
    "\n",
    "            # Calculating the number of shares for each stock\n",
    "            value = 0.5 * self.portfolio_value  # Divide the cash equally\n",
    "            x = int(value / (self.data0.close[0]))  # Find the number of shares for Stock1\n",
    "            y = int(value / (self.data1.close[0]))  # Find the number of shares for Stock2\n",
    "            print('x + self.qty1 is', x + self.qty1)\n",
    "            print('y + self.qty2 is', y + self.qty2)\n",
    "\n",
    "            # Placing the order\n",
    "            self.log('SELL CREATE %s, price = %.2f, qty = %d' % (\"TXN\", self.data0.close[0], x + self.qty1))\n",
    "            self.sell(data=self.data0, size=(x + self.qty1))  # Place an order for buying y + qty2 shares\n",
    "            self.log('BUY CREATE %s, price = %.2f, qty = %d' % (\"NXPI\", self.data1.close[0], y + self.qty2))\n",
    "            self.buy(data=self.data1, size=(y + self.qty2))  # Place an order for selling x + qty1 shares\n",
    "\n",
    "            # Updating the counters with new value\n",
    "            self.qty1 = x  # The new open position quantity for Stock1 is x shares\n",
    "            self.qty2 = y  # The new open position quantity for Stock2 is y shares\n",
    "\n",
    "            self.status = 1  # The current status is \"short the spread\"\n",
    "\n",
    "            # Step 3: Check conditions for LONG & place the order\n",
    "            # Checking the condition for LONG\n",
    "        elif (self.z_score < -1) and (self.status != 2):\n",
    "            print(\"2\")\n",
    "\n",
    "            # Calculating the number of shares for each stock\n",
    "            value = 0.5 * self.portfolio_value  # Divide the cash equally\n",
    "            x = int(value / (self.data0.close[0]))  # Find the number of shares for Stock1\n",
    "            y = int(value / (self.data1.close[0]))  # Find the number of shares for Stock2\n",
    "            print('x + self.qty1 is', x + self.qty1)\n",
    "            print('y + self.qty2 is', y + self.qty2)\n",
    "\n",
    "            # Place the order\n",
    "            self.log('BUY CREATE %s, price = %.2f, qty = %d' % (\"PEP\", self.data0.close[0], x + self.qty1))\n",
    "            self.buy(data=self.data0, size=(x + self.qty1))  # Place an order for buying x + qty1 shares\n",
    "            self.log('SELL CREATE %s, price = %.2f, qty = %d' % (\"KO\", self.data1.close[], y + self.qty2))\n",
    "            self.sell(data=self.data1, size=(y + self.qty2))  # Place an order for selling y + qty2 shares\n",
    "\n",
    "            # Updating the counters with new value\n",
    "            self.qty1 = x  # The new open position quantity for Stock1 is x shares\n",
    "            self.qty2 = y  # The new open position quantity for Stock2 is y shares\n",
    "            self.status = 2  # The current status is \"long the spread\"\n",
    "\n",
    "\n",
    "            # Step 4: Check conditions for No Trade\n",
    "            # If the z-score is within the two bounds, close all\n",
    "        \n",
    "        elif (self.zscore < 1 and self.zscore > -1):\n",
    "            self.log('CLOSE LONG %s, price = %.2f' % (\"NXPI\", self.data0.close[0]))\n",
    "            self.close(self.data0)\n",
    "            self.log('CLOSE LONG %s, price = %.2f' % (\"TXN\", self.data1.close[0]))\n",
    "            self.close(self.data1)\n",
    "        \n",
    "\n",
    "            \n",
    "    def stop(self):\n",
    "        print('==================================================')\n",
    "        print('Starting Value - %.2f' % self.broker.startingcash)\n",
    "        print('Ending   Value - %.2f' % self.broker.getvalue())\n",
    "        print('==================================================')\n",
    "\n",
    "\n",
    "\n",
    "cerebro = bt.Cerebro()\n",
    "cerebro.addstrategy(TXN_NXPI)\n",
    "cerebro.broker.setcash(10000.0)\n",
    "cerebro.broker.setcommission(commission=0.002)\n",
    "\n",
    "NXPI = yf.download(\"NXPI\", start='2021-01-01')\n",
    "data0 = bt.feeds.PandasData(dataname=NXPI)\n",
    "cerebro.adddata(data0)\n",
    "\n",
    "TXN = yf.download(\"TXN\", start='2021-01-01')\n",
    "data1 = bt.feeds.PandasData(dataname=TXN)\n",
    "cerebro.adddata(data1)\n",
    "\n",
    "cerebro.run()\n",
    "cerebro.plot()"
   ]
  }
 ],
 "metadata": {
  "kernelspec": {
   "display_name": "Python 3",
   "language": "python",
   "name": "python3"
  },
  "language_info": {
   "codemirror_mode": {
    "name": "ipython",
    "version": 3
   },
   "file_extension": ".py",
   "mimetype": "text/x-python",
   "name": "python",
   "nbconvert_exporter": "python",
   "pygments_lexer": "ipython3",
   "version": "3.7.4"
  }
 },
 "nbformat": 4,
 "nbformat_minor": 2
}
