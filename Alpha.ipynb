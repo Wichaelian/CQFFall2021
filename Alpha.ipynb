{
 "cells": [
  {
   "cell_type": "code",
   "execution_count": 117,
   "metadata": {},
   "outputs": [],
   "source": [
    "import numpy as np\n",
    "import pandas as pd\n",
    "import matplotlib.pyplot as plt\n",
    "import yfinance as yf\n",
    "import backtrader as bt\n",
    "from datetime import datetime\n",
    "import statsmodels\n",
    "import statsmodels.api as sm\n",
    "from statsmodels.tsa.stattools import adfuller"
   ]
  },
  {
   "cell_type": "code",
   "execution_count": 195,
   "metadata": {},
   "outputs": [
    {
     "name": "stdout",
     "output_type": "stream",
     "text": [
      "[*********************100%***********************]  1 of 1 completed\n",
      "[*********************100%***********************]  1 of 1 completed\n",
      "[*********************100%***********************]  1 of 1 completed\n",
      "[*********************100%***********************]  1 of 1 completed\n",
      "[*********************100%***********************]  1 of 1 completed\n",
      "[*********************100%***********************]  1 of 1 completed\n",
      "[*********************100%***********************]  1 of 1 completed\n",
      "[*********************100%***********************]  1 of 1 completed\n"
     ]
    }
   ],
   "source": [
    "soxx_data = yf.download(\"SOXX\", start='2021-01-01')\n",
    "nvda_data = yf.download(\"NVDA\", start='2021-01-01')\n",
    "tsmc_data = yf.download(\"TSM\", start='2021-01-01')\n",
    "intc_data = yf.download(\"INTC\", start='2021-01-01')\n",
    "nxpi_data = yf.download(\"NXPI\", start='2021-01-01')\n",
    "avgo_data = yf.download(\"AVGO\", start='2021-01-01')\n",
    "txn_data = yf.download(\"TXN\", start='2021-01-01')\n",
    "amd_data = yf.download(\"AMD\", start='2021-01-01')\n",
    "data_list = [soxx_data, nvda_data, tsmc_data, intc_data, nxpi_data, avgo_data, txn_data, amd_data]\n",
    "data_list_names = [\"soxx_data\", \"nvda_data\", \"tsmc_data\", \"intc_data\", \"nxpi_data\", \"avgo_data\", \"txn_data\", \"amd_data\"]"
   ]
  },
  {
   "cell_type": "code",
   "execution_count": 153,
   "metadata": {},
   "outputs": [
    {
     "data": {
      "text/plain": [
       "0.9488188446068953"
      ]
     },
     "execution_count": 153,
     "metadata": {},
     "output_type": "execute_result"
    }
   ],
   "source": [
    "soxx_data[\"Close\"].corr(nvda_data[\"Close\"])"
   ]
  },
  {
   "cell_type": "code",
   "execution_count": 154,
   "metadata": {},
   "outputs": [
    {
     "data": {
      "text/plain": [
       "-0.003757109863184324"
      ]
     },
     "execution_count": 154,
     "metadata": {},
     "output_type": "execute_result"
    }
   ],
   "source": [
    "soxx_data[\"Close\"].corr(tsmc_data[\"Close\"])"
   ]
  },
  {
   "cell_type": "code",
   "execution_count": 155,
   "metadata": {},
   "outputs": [
    {
     "data": {
      "text/plain": [
       "-0.5278427450864056"
      ]
     },
     "execution_count": 155,
     "metadata": {},
     "output_type": "execute_result"
    }
   ],
   "source": [
    "soxx_data[\"Close\"].corr(intc_data[\"Close\"])"
   ]
  },
  {
   "cell_type": "code",
   "execution_count": 156,
   "metadata": {},
   "outputs": [
    {
     "data": {
      "text/plain": [
       "0.8022136853111411"
      ]
     },
     "execution_count": 156,
     "metadata": {},
     "output_type": "execute_result"
    }
   ],
   "source": [
    "soxx_data[\"Close\"].corr(nxpi_data[\"Close\"])"
   ]
  },
  {
   "cell_type": "code",
   "execution_count": 157,
   "metadata": {},
   "outputs": [
    {
     "data": {
      "text/plain": [
       "0.9453770724621768"
      ]
     },
     "execution_count": 157,
     "metadata": {},
     "output_type": "execute_result"
    }
   ],
   "source": [
    "soxx_data[\"Close\"].corr(avgo_data[\"Close\"])"
   ]
  },
  {
   "cell_type": "code",
   "execution_count": 201,
   "metadata": {},
   "outputs": [
    {
     "name": "stdout",
     "output_type": "stream",
     "text": [
      "txn_data\n",
      "(-2.985146098796241, 0.03630504539965115, 1, 229, {'1%': -3.4592326027153493, '5%': -2.8742454699025872, '10%': -2.5735414688888465}, 1090.7400906538635)\n",
      " \n",
      "nxpi_data txn_data\n",
      "(-2.738571606609665, 0.06759819572370056, 5, 225, {'1%': -3.4597521044060353, '5%': -2.874472927517147, '10%': -2.5736628197530864}, 1069.3197966495354)\n"
     ]
    }
   ],
   "source": [
    "pval = 1\n",
    "single_pval = 1\n",
    "for i1, ticker1 in enumerate(data_list):\n",
    "    single_stats = adfuller(ticker1[\"Close\"])\n",
    "    if single_stats[1] < single_pval:\n",
    "        single_pval = single_stats[1]\n",
    "        single_min_ticker = data_list_names[i1]\n",
    "        single_min = single_stats\n",
    "    for i2, ticker2 in enumerate(data_list[i1+1:]):\n",
    "        model = sm.OLS(ticker1[\"Close\"], ticker2[\"Close\"]).fit()\n",
    "        test_res = adfuller(model.resid)\n",
    "        if test_res[1] < pval:\n",
    "            pval = test_res[1]\n",
    "            pair_tickers = data_list_names[i1] + \" \" + data_list_names[i1+i2+1]\n",
    "            pair = test_res\n",
    "print(single_min_ticker)\n",
    "print(single_min)\n",
    "print(\" \")\n",
    "print(pair_tickers)\n",
    "print(pair)\n",
    "            \n",
    "    "
   ]
  },
  {
   "cell_type": "code",
   "execution_count": null,
   "metadata": {},
   "outputs": [],
   "source": []
  }
 ],
 "metadata": {
  "kernelspec": {
   "display_name": "Python 3",
   "language": "python",
   "name": "python3"
  },
  "language_info": {
   "codemirror_mode": {
    "name": "ipython",
    "version": 3
   },
   "file_extension": ".py",
   "mimetype": "text/x-python",
   "name": "python",
   "nbconvert_exporter": "python",
   "pygments_lexer": "ipython3",
   "version": "3.7.4"
  }
 },
 "nbformat": 4,
 "nbformat_minor": 2
}
